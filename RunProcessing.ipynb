{
 "cells": [
  {
   "cell_type": "code",
   "execution_count": 1,
   "metadata": {},
   "outputs": [],
   "source": [
    "%load_ext autoreload\n",
    "%autoreload 2\n",
    "import pandas as pd\n",
    "import glob\n",
    "from well_processor import WellProcessor \n",
    "from funcs import create_montage, merge_montages, make_montages\n",
    "import dask\n"
   ]
  },
  {
   "cell_type": "markdown",
   "metadata": {},
   "source": [
    "# Put your list of directories to process here"
   ]
  },
  {
   "cell_type": "markdown",
   "metadata": {},
   "source": [
    "1.  Make sure you use '/' as the file separator\n",
    "2.  Make sure you are using windows file paths (S:/micro/etc) and not macOS or linux\n",
    "3.  Make sure all directories are encased in single quotes, separate multiple directories with a comma"
   ]
  },
  {
   "cell_type": "code",
   "execution_count": 2,
   "metadata": {},
   "outputs": [],
   "source": [
    "list_of_directories = [ 'S:/micro/am2800/pt2843/smc/20250512/test/Plate 2 DRACS/#2532057972_ZProj_Max/']"
   ]
  },
  {
   "cell_type": "markdown",
   "metadata": {},
   "source": [
    "# Then run this code"
   ]
  },
  {
   "cell_type": "code",
   "execution_count": null,
   "metadata": {
    "scrolled": true
   },
   "outputs": [
    {
     "name": "stdout",
     "output_type": "stream",
     "text": [
      "Directory already exists: S:/micro/am2800/pt2843/smc/20250512/test/Plate 2 DRACS/#2532057972_ZProj_Max/../montages\n",
      "Directory already exists: S:/micro/am2800/pt2843/smc/20250512/test/Plate 2 DRACS/#2532057972_ZProj_Max/../csvs\n",
      "Directory already exists: S:/micro/am2800/pt2843/smc/20250512/test/Plate 2 DRACS/#2532057972_ZProj_Max/../projections\n",
      "Directory already exists: S:/micro/am2800/pt2843/smc/20250512/test/Plate 2 DRACS/#2532057972_ZProj_Max/../segmentations\n",
      "Directory already exists: S:/micro/am2800/pt2843/smc/20250512/test/Plate 2 DRACS/#2532057972_ZProj_Max/../cleared\n",
      "get_well done\n"
     ]
    },
    {
     "name": "stderr",
     "output_type": "stream",
     "text": [
      "100%|██████████| 64/64 [02:26<00:00,  2.29s/it]\n"
     ]
    },
    {
     "name": "stdout",
     "output_type": "stream",
     "text": [
      "register_images done\n"
     ]
    },
    {
     "name": "stderr",
     "output_type": "stream",
     "text": [
      "u:\\smc\\public\\am2800\\ColonyProcessing\\well_processor.py:265: RuntimeWarning: divide by zero encountered in divide\n",
      "  combined = np.stack([self.tritc_cleared, self.yfp_cleared, self.yfp_cleared/self.tritc_cleared], axis=1)\n",
      "u:\\smc\\public\\am2800\\ColonyProcessing\\well_processor.py:265: RuntimeWarning: invalid value encountered in divide\n",
      "  combined = np.stack([self.tritc_cleared, self.yfp_cleared, self.yfp_cleared/self.tritc_cleared], axis=1)\n",
      "u:\\smc\\public\\am2800\\ColonyProcessing\\well_processor.py:285: RuntimeWarning: divide by zero encountered in divide\n",
      "  ratio_img = self.yfp_cleared / self.tritc_cleared\n",
      "u:\\smc\\public\\am2800\\ColonyProcessing\\well_processor.py:285: RuntimeWarning: invalid value encountered in divide\n",
      "  ratio_img = self.yfp_cleared / self.tritc_cleared\n"
     ]
    },
    {
     "name": "stdout",
     "output_type": "stream",
     "text": [
      "get_masks done\n",
      "make_projections done\n",
      "get_center_and_radius_stack done\n",
      "get_kymographs done\n",
      "get_ratio_df done\n",
      "S:/micro/am2800/pt2843/smc/20250512/test/Plate 2 DRACS/#2532057972_ZProj_Max/../projections\n",
      "Directory already exists: S:/micro/am2800/pt2843/smc/20250512/test/Plate 2 DRACS/#2532057972_ZProj_Max/../montages\n",
      "Directory already exists: S:/micro/am2800/pt2843/smc/20250512/test/Plate 2 DRACS/#2532057972_ZProj_Max/../csvs\n",
      "Directory already exists: S:/micro/am2800/pt2843/smc/20250512/test/Plate 2 DRACS/#2532057972_ZProj_Max/../projections\n",
      "Directory already exists: S:/micro/am2800/pt2843/smc/20250512/test/Plate 2 DRACS/#2532057972_ZProj_Max/../segmentations\n",
      "Directory already exists: S:/micro/am2800/pt2843/smc/20250512/test/Plate 2 DRACS/#2532057972_ZProj_Max/../cleared\n",
      "get_well done\n"
     ]
    },
    {
     "name": "stderr",
     "output_type": "stream",
     "text": [
      "100%|██████████| 64/64 [02:21<00:00,  2.20s/it]\n"
     ]
    },
    {
     "name": "stdout",
     "output_type": "stream",
     "text": [
      "register_images done\n"
     ]
    },
    {
     "name": "stderr",
     "output_type": "stream",
     "text": [
      "u:\\smc\\public\\am2800\\ColonyProcessing\\well_processor.py:265: RuntimeWarning: divide by zero encountered in divide\n",
      "  combined = np.stack([self.tritc_cleared, self.yfp_cleared, self.yfp_cleared/self.tritc_cleared], axis=1)\n",
      "u:\\smc\\public\\am2800\\ColonyProcessing\\well_processor.py:265: RuntimeWarning: invalid value encountered in divide\n",
      "  combined = np.stack([self.tritc_cleared, self.yfp_cleared, self.yfp_cleared/self.tritc_cleared], axis=1)\n",
      "u:\\smc\\public\\am2800\\ColonyProcessing\\well_processor.py:285: RuntimeWarning: divide by zero encountered in divide\n",
      "  ratio_img = self.yfp_cleared / self.tritc_cleared\n",
      "u:\\smc\\public\\am2800\\ColonyProcessing\\well_processor.py:285: RuntimeWarning: invalid value encountered in divide\n",
      "  ratio_img = self.yfp_cleared / self.tritc_cleared\n"
     ]
    },
    {
     "name": "stdout",
     "output_type": "stream",
     "text": [
      "get_masks done\n",
      "make_projections done\n",
      "get_center_and_radius_stack done\n",
      "get_kymographs done\n",
      "get_ratio_df done\n",
      "S:/micro/am2800/pt2843/smc/20250512/test/Plate 2 DRACS/#2532057972_ZProj_Max/../projections\n",
      "Directory already exists: S:/micro/am2800/pt2843/smc/20250512/test/Plate 2 DRACS/#2532057972_ZProj_Max/../montages\n",
      "Directory already exists: S:/micro/am2800/pt2843/smc/20250512/test/Plate 2 DRACS/#2532057972_ZProj_Max/../csvs\n",
      "Directory already exists: S:/micro/am2800/pt2843/smc/20250512/test/Plate 2 DRACS/#2532057972_ZProj_Max/../projections\n",
      "Directory already exists: S:/micro/am2800/pt2843/smc/20250512/test/Plate 2 DRACS/#2532057972_ZProj_Max/../segmentations\n",
      "Directory already exists: S:/micro/am2800/pt2843/smc/20250512/test/Plate 2 DRACS/#2532057972_ZProj_Max/../cleared\n",
      "get_well done\n"
     ]
    },
    {
     "name": "stderr",
     "output_type": "stream",
     "text": [
      "100%|██████████| 64/64 [02:18<00:00,  2.16s/it]\n"
     ]
    },
    {
     "name": "stdout",
     "output_type": "stream",
     "text": [
      "register_images done\n"
     ]
    },
    {
     "name": "stderr",
     "output_type": "stream",
     "text": [
      "u:\\smc\\public\\am2800\\ColonyProcessing\\well_processor.py:265: RuntimeWarning: invalid value encountered in divide\n",
      "  combined = np.stack([self.tritc_cleared, self.yfp_cleared, self.yfp_cleared/self.tritc_cleared], axis=1)\n",
      "u:\\smc\\public\\am2800\\ColonyProcessing\\well_processor.py:285: RuntimeWarning: invalid value encountered in divide\n",
      "  ratio_img = self.yfp_cleared / self.tritc_cleared\n"
     ]
    },
    {
     "name": "stdout",
     "output_type": "stream",
     "text": [
      "get_masks done\n",
      "make_projections done\n",
      "get_center_and_radius_stack done\n",
      "get_kymographs done\n",
      "get_ratio_df done\n",
      "S:/micro/am2800/pt2843/smc/20250512/test/Plate 2 DRACS/#2532057972_ZProj_Max/../projections\n",
      "Directory already exists: S:/micro/am2800/pt2843/smc/20250512/test/Plate 2 DRACS/#2532057972_ZProj_Max/../montages\n",
      "Directory already exists: S:/micro/am2800/pt2843/smc/20250512/test/Plate 2 DRACS/#2532057972_ZProj_Max/../csvs\n",
      "Directory already exists: S:/micro/am2800/pt2843/smc/20250512/test/Plate 2 DRACS/#2532057972_ZProj_Max/../projections\n",
      "Directory already exists: S:/micro/am2800/pt2843/smc/20250512/test/Plate 2 DRACS/#2532057972_ZProj_Max/../segmentations\n",
      "Directory already exists: S:/micro/am2800/pt2843/smc/20250512/test/Plate 2 DRACS/#2532057972_ZProj_Max/../cleared\n",
      "get_well done\n"
     ]
    },
    {
     "name": "stderr",
     "output_type": "stream",
     "text": [
      "100%|██████████| 64/64 [02:10<00:00,  2.04s/it]\n"
     ]
    },
    {
     "name": "stdout",
     "output_type": "stream",
     "text": [
      "register_images done\n"
     ]
    },
    {
     "name": "stderr",
     "output_type": "stream",
     "text": [
      "u:\\smc\\public\\am2800\\ColonyProcessing\\well_processor.py:265: RuntimeWarning: divide by zero encountered in divide\n",
      "  combined = np.stack([self.tritc_cleared, self.yfp_cleared, self.yfp_cleared/self.tritc_cleared], axis=1)\n",
      "u:\\smc\\public\\am2800\\ColonyProcessing\\well_processor.py:265: RuntimeWarning: invalid value encountered in divide\n",
      "  combined = np.stack([self.tritc_cleared, self.yfp_cleared, self.yfp_cleared/self.tritc_cleared], axis=1)\n",
      "u:\\smc\\public\\am2800\\ColonyProcessing\\well_processor.py:285: RuntimeWarning: divide by zero encountered in divide\n",
      "  ratio_img = self.yfp_cleared / self.tritc_cleared\n",
      "u:\\smc\\public\\am2800\\ColonyProcessing\\well_processor.py:285: RuntimeWarning: invalid value encountered in divide\n",
      "  ratio_img = self.yfp_cleared / self.tritc_cleared\n"
     ]
    },
    {
     "name": "stdout",
     "output_type": "stream",
     "text": [
      "get_masks done\n",
      "make_projections done\n",
      "get_center_and_radius_stack done\n",
      "get_kymographs done\n",
      "get_ratio_df done\n",
      "S:/micro/am2800/pt2843/smc/20250512/test/Plate 2 DRACS/#2532057972_ZProj_Max/../projections\n",
      "Directory already exists: S:/micro/am2800/pt2843/smc/20250512/test/Plate 2 DRACS/#2532057972_ZProj_Max/../montages\n",
      "Directory already exists: S:/micro/am2800/pt2843/smc/20250512/test/Plate 2 DRACS/#2532057972_ZProj_Max/../csvs\n",
      "Directory already exists: S:/micro/am2800/pt2843/smc/20250512/test/Plate 2 DRACS/#2532057972_ZProj_Max/../projections\n",
      "Directory already exists: S:/micro/am2800/pt2843/smc/20250512/test/Plate 2 DRACS/#2532057972_ZProj_Max/../segmentations\n",
      "Directory already exists: S:/micro/am2800/pt2843/smc/20250512/test/Plate 2 DRACS/#2532057972_ZProj_Max/../cleared\n",
      "get_well done\n"
     ]
    },
    {
     "name": "stderr",
     "output_type": "stream",
     "text": [
      "100%|██████████| 64/64 [02:21<00:00,  2.21s/it]\n"
     ]
    },
    {
     "name": "stdout",
     "output_type": "stream",
     "text": [
      "register_images done\n"
     ]
    },
    {
     "name": "stderr",
     "output_type": "stream",
     "text": [
      "u:\\smc\\public\\am2800\\ColonyProcessing\\well_processor.py:265: RuntimeWarning: invalid value encountered in divide\n",
      "  combined = np.stack([self.tritc_cleared, self.yfp_cleared, self.yfp_cleared/self.tritc_cleared], axis=1)\n",
      "u:\\smc\\public\\am2800\\ColonyProcessing\\well_processor.py:285: RuntimeWarning: invalid value encountered in divide\n",
      "  ratio_img = self.yfp_cleared / self.tritc_cleared\n"
     ]
    },
    {
     "name": "stdout",
     "output_type": "stream",
     "text": [
      "get_masks done\n",
      "make_projections done\n",
      "get_center_and_radius_stack done\n",
      "get_kymographs done\n",
      "get_ratio_df done\n",
      "S:/micro/am2800/pt2843/smc/20250512/test/Plate 2 DRACS/#2532057972_ZProj_Max/../projections\n",
      "Directory already exists: S:/micro/am2800/pt2843/smc/20250512/test/Plate 2 DRACS/#2532057972_ZProj_Max/../montages\n",
      "Directory already exists: S:/micro/am2800/pt2843/smc/20250512/test/Plate 2 DRACS/#2532057972_ZProj_Max/../csvs\n",
      "Directory already exists: S:/micro/am2800/pt2843/smc/20250512/test/Plate 2 DRACS/#2532057972_ZProj_Max/../projections\n",
      "Directory already exists: S:/micro/am2800/pt2843/smc/20250512/test/Plate 2 DRACS/#2532057972_ZProj_Max/../segmentations\n",
      "Directory already exists: S:/micro/am2800/pt2843/smc/20250512/test/Plate 2 DRACS/#2532057972_ZProj_Max/../cleared\n",
      "get_well done\n"
     ]
    },
    {
     "name": "stderr",
     "output_type": "stream",
     "text": [
      "100%|██████████| 64/64 [02:15<00:00,  2.11s/it]\n"
     ]
    },
    {
     "name": "stdout",
     "output_type": "stream",
     "text": [
      "register_images done\n"
     ]
    },
    {
     "name": "stderr",
     "output_type": "stream",
     "text": [
      "u:\\smc\\public\\am2800\\ColonyProcessing\\well_processor.py:265: RuntimeWarning: divide by zero encountered in divide\n",
      "  combined = np.stack([self.tritc_cleared, self.yfp_cleared, self.yfp_cleared/self.tritc_cleared], axis=1)\n",
      "u:\\smc\\public\\am2800\\ColonyProcessing\\well_processor.py:265: RuntimeWarning: invalid value encountered in divide\n",
      "  combined = np.stack([self.tritc_cleared, self.yfp_cleared, self.yfp_cleared/self.tritc_cleared], axis=1)\n",
      "u:\\smc\\public\\am2800\\ColonyProcessing\\well_processor.py:285: RuntimeWarning: divide by zero encountered in divide\n",
      "  ratio_img = self.yfp_cleared / self.tritc_cleared\n",
      "u:\\smc\\public\\am2800\\ColonyProcessing\\well_processor.py:285: RuntimeWarning: invalid value encountered in divide\n",
      "  ratio_img = self.yfp_cleared / self.tritc_cleared\n"
     ]
    },
    {
     "name": "stdout",
     "output_type": "stream",
     "text": [
      "get_masks done\n",
      "make_projections done\n",
      "get_center_and_radius_stack done\n",
      "get_kymographs done\n",
      "get_ratio_df done\n",
      "S:/micro/am2800/pt2843/smc/20250512/test/Plate 2 DRACS/#2532057972_ZProj_Max/../projections\n",
      "Directory already exists: S:/micro/am2800/pt2843/smc/20250512/test/Plate 2 DRACS/#2532057972_ZProj_Max/../montages\n",
      "Directory already exists: S:/micro/am2800/pt2843/smc/20250512/test/Plate 2 DRACS/#2532057972_ZProj_Max/../csvs\n",
      "Directory already exists: S:/micro/am2800/pt2843/smc/20250512/test/Plate 2 DRACS/#2532057972_ZProj_Max/../projections\n",
      "Directory already exists: S:/micro/am2800/pt2843/smc/20250512/test/Plate 2 DRACS/#2532057972_ZProj_Max/../segmentations\n",
      "Directory already exists: S:/micro/am2800/pt2843/smc/20250512/test/Plate 2 DRACS/#2532057972_ZProj_Max/../cleared\n",
      "get_well done\n"
     ]
    },
    {
     "name": "stderr",
     "output_type": "stream",
     "text": [
      "100%|██████████| 64/64 [02:18<00:00,  2.17s/it]\n"
     ]
    },
    {
     "name": "stdout",
     "output_type": "stream",
     "text": [
      "register_images done\n"
     ]
    },
    {
     "name": "stderr",
     "output_type": "stream",
     "text": [
      "u:\\smc\\public\\am2800\\ColonyProcessing\\well_processor.py:265: RuntimeWarning: divide by zero encountered in divide\n",
      "  combined = np.stack([self.tritc_cleared, self.yfp_cleared, self.yfp_cleared/self.tritc_cleared], axis=1)\n",
      "u:\\smc\\public\\am2800\\ColonyProcessing\\well_processor.py:265: RuntimeWarning: invalid value encountered in divide\n",
      "  combined = np.stack([self.tritc_cleared, self.yfp_cleared, self.yfp_cleared/self.tritc_cleared], axis=1)\n",
      "u:\\smc\\public\\am2800\\ColonyProcessing\\well_processor.py:285: RuntimeWarning: divide by zero encountered in divide\n",
      "  ratio_img = self.yfp_cleared / self.tritc_cleared\n",
      "u:\\smc\\public\\am2800\\ColonyProcessing\\well_processor.py:285: RuntimeWarning: invalid value encountered in divide\n",
      "  ratio_img = self.yfp_cleared / self.tritc_cleared\n"
     ]
    },
    {
     "name": "stdout",
     "output_type": "stream",
     "text": [
      "get_masks done\n",
      "make_projections done\n",
      "get_center_and_radius_stack done\n",
      "get_kymographs done\n",
      "get_ratio_df done\n",
      "S:/micro/am2800/pt2843/smc/20250512/test/Plate 2 DRACS/#2532057972_ZProj_Max/../projections\n",
      "Directory already exists: S:/micro/am2800/pt2843/smc/20250512/test/Plate 2 DRACS/#2532057972_ZProj_Max/../montages\n",
      "Directory already exists: S:/micro/am2800/pt2843/smc/20250512/test/Plate 2 DRACS/#2532057972_ZProj_Max/../csvs\n",
      "Directory already exists: S:/micro/am2800/pt2843/smc/20250512/test/Plate 2 DRACS/#2532057972_ZProj_Max/../projections\n",
      "Directory already exists: S:/micro/am2800/pt2843/smc/20250512/test/Plate 2 DRACS/#2532057972_ZProj_Max/../segmentations\n",
      "Directory already exists: S:/micro/am2800/pt2843/smc/20250512/test/Plate 2 DRACS/#2532057972_ZProj_Max/../cleared\n",
      "get_well done\n"
     ]
    },
    {
     "name": "stderr",
     "output_type": "stream",
     "text": [
      "100%|██████████| 64/64 [02:10<00:00,  2.04s/it]\n"
     ]
    },
    {
     "name": "stdout",
     "output_type": "stream",
     "text": [
      "register_images done\n"
     ]
    },
    {
     "name": "stderr",
     "output_type": "stream",
     "text": [
      "u:\\smc\\public\\am2800\\ColonyProcessing\\well_processor.py:265: RuntimeWarning: invalid value encountered in divide\n",
      "  combined = np.stack([self.tritc_cleared, self.yfp_cleared, self.yfp_cleared/self.tritc_cleared], axis=1)\n",
      "u:\\smc\\public\\am2800\\ColonyProcessing\\well_processor.py:285: RuntimeWarning: invalid value encountered in divide\n",
      "  ratio_img = self.yfp_cleared / self.tritc_cleared\n"
     ]
    },
    {
     "name": "stdout",
     "output_type": "stream",
     "text": [
      "get_masks done\n",
      "make_projections done\n",
      "get_center_and_radius_stack done\n",
      "get_kymographs done\n",
      "get_ratio_df done\n",
      "S:/micro/am2800/pt2843/smc/20250512/test/Plate 2 DRACS/#2532057972_ZProj_Max/../projections\n"
     ]
    },
    {
     "ename": "TypeError",
     "evalue": "unsupported operand type(s) for +: 'NoneType' and 'str'",
     "output_type": "error",
     "traceback": [
      "\u001b[1;31m---------------------------------------------------------------------------\u001b[0m",
      "\u001b[1;31mTypeError\u001b[0m                                 Traceback (most recent call last)",
      "Cell \u001b[1;32mIn[4], line 20\u001b[0m\n\u001b[0;32m     17\u001b[0m     processor\u001b[38;5;241m.\u001b[39mprocess_well(remake\u001b[38;5;241m=\u001b[39m\u001b[38;5;28;01mTrue\u001b[39;00m)\n\u001b[0;32m     19\u001b[0m processor \u001b[38;5;241m=\u001b[39m WellProcessor(well_list[\u001b[38;5;241m0\u001b[39m], root_directory, time_clip\u001b[38;5;241m=\u001b[39m\u001b[38;5;241m2\u001b[39m)        \n\u001b[1;32m---> 20\u001b[0m make_montages(\u001b[43mprocessor\u001b[49m\u001b[38;5;241;43m.\u001b[39;49m\u001b[43mcsv_dir\u001b[49m\u001b[38;5;241;43m+\u001b[39;49m\u001b[38;5;124;43m'\u001b[39;49m\u001b[38;5;124;43m/\u001b[39;49m\u001b[38;5;124;43m'\u001b[39;49m, processor\u001b[38;5;241m.\u001b[39mmontage_dir\u001b[38;5;241m+\u001b[39m\u001b[38;5;124m'\u001b[39m\u001b[38;5;124m/\u001b[39m\u001b[38;5;124m'\u001b[39m, processor\u001b[38;5;241m.\u001b[39mresolution)\n\u001b[0;32m     21\u001b[0m merge_montages(processor\u001b[38;5;241m.\u001b[39mmontage_dir)\n",
      "\u001b[1;31mTypeError\u001b[0m: unsupported operand type(s) for +: 'NoneType' and 'str'"
     ]
    }
   ],
   "source": [
    "for root_directory in list_of_directories:\n",
    "    well_list = pd.DataFrame({'fname':glob.glob(root_directory + '/*.tif')}).sort_values(by='fname')\n",
    "    well_list['well'] = well_list['fname'].str.split('\\\\').str[-1].str.split('_').str[0]\n",
    "\n",
    "\n",
    "    well_list = well_list['well'].unique()\n",
    "\n",
    "    for well in well_list:\n",
    "        processor = WellProcessor(well, root_directory, time_clip=2)\n",
    "        processor.process_well(remake=False)  # Change this to False most of the time, only really useful when testing\n",
    "        \n",
    "    processor = WellProcessor(well_list[0], root_directory, time_clip=2)        \n",
    "    make_montages(processor.csv_dir+'/', processor.montage_dir+'/', processor.resolution)\n",
    "    merge_montages(processor.montage_dir)\n"
   ]
  },
  {
   "cell_type": "code",
   "execution_count": null,
   "metadata": {},
   "outputs": [],
   "source": []
  },
  {
   "cell_type": "code",
   "execution_count": null,
   "metadata": {},
   "outputs": [],
   "source": []
  },
  {
   "cell_type": "code",
   "execution_count": null,
   "metadata": {},
   "outputs": [],
   "source": []
  }
 ],
 "metadata": {
  "kernelspec": {
   "display_name": "napari",
   "language": "python",
   "name": "python3"
  },
  "language_info": {
   "codemirror_mode": {
    "name": "ipython",
    "version": 3
   },
   "file_extension": ".py",
   "mimetype": "text/x-python",
   "name": "python",
   "nbconvert_exporter": "python",
   "pygments_lexer": "ipython3",
   "version": "3.10.13"
  }
 },
 "nbformat": 4,
 "nbformat_minor": 4
}
