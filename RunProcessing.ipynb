{
 "cells": [
  {
   "cell_type": "code",
   "execution_count": 1,
   "metadata": {},
   "outputs": [],
   "source": [
    "%load_ext autoreload\n",
    "%autoreload 2\n",
    "import pandas as pd\n",
    "import glob\n",
    "from well_processor import WellProcessor \n",
    "from montages import merge_montages, make_montages\n"
   ]
  },
  {
   "cell_type": "markdown",
   "metadata": {},
   "source": [
    "# Put your list of directories to process here"
   ]
  },
  {
   "cell_type": "markdown",
   "metadata": {},
   "source": [
    "1.  Make sure you use '/' as the file separator\n",
    "2.  Make sure you are using windows file paths (S:/micro/etc) and not macOS or linux\n",
    "3.  Make sure all directories are encased in single quotes, separate multiple directories with a comma"
   ]
  },
  {
   "cell_type": "code",
   "execution_count": 2,
   "metadata": {},
   "outputs": [],
   "source": [
    "list_of_directories = ['L:/Cytation data/Stowers_Cytation/Chaise/NaCl run 08012025/Plate 5 100mM NaCl/#2562443447_ZProj']"
   ]
  },
  {
   "cell_type": "markdown",
   "metadata": {},
   "source": [
    "Things to do:\n",
    "\n",
    "Add derivative\n",
    "Add dictionary for specifying ranges on montages."
   ]
  },
  {
   "cell_type": "markdown",
   "metadata": {},
   "source": [
    "# Then run this code"
   ]
  },
  {
   "cell_type": "code",
   "execution_count": 3,
   "metadata": {
    "scrolled": true
   },
   "outputs": [
    {
     "name": "stdout",
     "output_type": "stream",
     "text": [
      "B10\n",
      "Created directory: L:/Cytation data/Stowers_Cytation/Chaise/NaCl run 08012025/Plate 5 100mM NaCl/#2562443447_ZProj\\../montages\n",
      "Created directory: L:/Cytation data/Stowers_Cytation/Chaise/NaCl run 08012025/Plate 5 100mM NaCl/#2562443447_ZProj\\../csvs\n",
      "Created directory: L:/Cytation data/Stowers_Cytation/Chaise/NaCl run 08012025/Plate 5 100mM NaCl/#2562443447_ZProj\\../projections\n",
      "Created directory: L:/Cytation data/Stowers_Cytation/Chaise/NaCl run 08012025/Plate 5 100mM NaCl/#2562443447_ZProj\\../segmentations\n",
      "Created directory: L:/Cytation data/Stowers_Cytation/Chaise/NaCl run 08012025/Plate 5 100mM NaCl/#2562443447_ZProj\\../cleared\n",
      "get_well done\n"
     ]
    },
    {
     "name": "stderr",
     "output_type": "stream",
     "text": [
      "100%|██████████████████████████████████████████████████████████████████████████████████| 49/49 [00:51<00:00,  1.04s/it]\n"
     ]
    },
    {
     "name": "stdout",
     "output_type": "stream",
     "text": [
      "register_images done\n"
     ]
    },
    {
     "name": "stderr",
     "output_type": "stream",
     "text": [
      "U:\\smc\\public\\am2800\\ColonyProcessing\\well_processor.py:267: RuntimeWarning: invalid value encountered in divide\n",
      "  combined = np.stack([self.tritc_cleared, self.yfp_cleared, self.yfp_cleared/self.tritc_cleared], axis=1)\n",
      "U:\\smc\\public\\am2800\\ColonyProcessing\\well_processor.py:270: FutureWarning: The plugin infrastructure in `skimage.io` is deprecated since version 0.25 and will be removed in 0.27 (or later). To avoid this warning, please do not pass additional keyword arguments for plugins (`**plugin_args`). Instead, use `imageio` or other I/O packages directly. See also `skimage.io.imsave`.\n",
      "  io.imsave(\n",
      "U:\\smc\\public\\am2800\\ColonyProcessing\\well_processor.py:287: RuntimeWarning: invalid value encountered in divide\n",
      "  ratio_img = self.yfp_cleared / self.tritc_cleared\n"
     ]
    },
    {
     "name": "stdout",
     "output_type": "stream",
     "text": [
      "get_masks done\n"
     ]
    },
    {
     "name": "stderr",
     "output_type": "stream",
     "text": [
      "U:\\smc\\public\\am2800\\ColonyProcessing\\well_processor.py:522: FutureWarning: The plugin infrastructure in `skimage.io` is deprecated since version 0.25 and will be removed in 0.27 (or later). To avoid this warning, please do not pass additional keyword arguments for plugins (`**plugin_args`). Instead, use `imageio` or other I/O packages directly. See also `skimage.io.imsave`.\n",
      "  io.imsave(\n",
      "U:\\smc\\public\\am2800\\ColonyProcessing\\well_processor.py:540: FutureWarning: The plugin infrastructure in `skimage.io` is deprecated since version 0.25 and will be removed in 0.27 (or later). To avoid this warning, please do not pass additional keyword arguments for plugins (`**plugin_args`). Instead, use `imageio` or other I/O packages directly. See also `skimage.io.imsave`.\n",
      "  io.imsave(\n"
     ]
    },
    {
     "name": "stdout",
     "output_type": "stream",
     "text": [
      "make_projections done\n",
      "get_center_and_radius_stack done\n",
      "get_kymographs done\n",
      "get_ratio_df done\n",
      "L:/Cytation data/Stowers_Cytation/Chaise/NaCl run 08012025/Plate 5 100mM NaCl/#2562443447_ZProj\\../projections\n",
      "B2\n",
      "Directory already exists: L:/Cytation data/Stowers_Cytation/Chaise/NaCl run 08012025/Plate 5 100mM NaCl/#2562443447_ZProj\\../montages\n",
      "Directory already exists: L:/Cytation data/Stowers_Cytation/Chaise/NaCl run 08012025/Plate 5 100mM NaCl/#2562443447_ZProj\\../csvs\n",
      "Directory already exists: L:/Cytation data/Stowers_Cytation/Chaise/NaCl run 08012025/Plate 5 100mM NaCl/#2562443447_ZProj\\../projections\n",
      "Directory already exists: L:/Cytation data/Stowers_Cytation/Chaise/NaCl run 08012025/Plate 5 100mM NaCl/#2562443447_ZProj\\../segmentations\n",
      "Directory already exists: L:/Cytation data/Stowers_Cytation/Chaise/NaCl run 08012025/Plate 5 100mM NaCl/#2562443447_ZProj\\../cleared\n",
      "get_well done\n"
     ]
    },
    {
     "name": "stderr",
     "output_type": "stream",
     "text": [
      "100%|██████████████████████████████████████████████████████████████████████████████████| 49/49 [00:53<00:00,  1.08s/it]\n"
     ]
    },
    {
     "name": "stdout",
     "output_type": "stream",
     "text": [
      "register_images done\n"
     ]
    },
    {
     "name": "stderr",
     "output_type": "stream",
     "text": [
      "U:\\smc\\public\\am2800\\ColonyProcessing\\well_processor.py:267: RuntimeWarning: invalid value encountered in divide\n",
      "  combined = np.stack([self.tritc_cleared, self.yfp_cleared, self.yfp_cleared/self.tritc_cleared], axis=1)\n",
      "U:\\smc\\public\\am2800\\ColonyProcessing\\well_processor.py:270: FutureWarning: The plugin infrastructure in `skimage.io` is deprecated since version 0.25 and will be removed in 0.27 (or later). To avoid this warning, please do not pass additional keyword arguments for plugins (`**plugin_args`). Instead, use `imageio` or other I/O packages directly. See also `skimage.io.imsave`.\n",
      "  io.imsave(\n",
      "U:\\smc\\public\\am2800\\ColonyProcessing\\well_processor.py:287: RuntimeWarning: invalid value encountered in divide\n",
      "  ratio_img = self.yfp_cleared / self.tritc_cleared\n"
     ]
    },
    {
     "name": "stdout",
     "output_type": "stream",
     "text": [
      "get_masks done\n"
     ]
    },
    {
     "name": "stderr",
     "output_type": "stream",
     "text": [
      "U:\\smc\\public\\am2800\\ColonyProcessing\\well_processor.py:522: FutureWarning: The plugin infrastructure in `skimage.io` is deprecated since version 0.25 and will be removed in 0.27 (or later). To avoid this warning, please do not pass additional keyword arguments for plugins (`**plugin_args`). Instead, use `imageio` or other I/O packages directly. See also `skimage.io.imsave`.\n",
      "  io.imsave(\n",
      "U:\\smc\\public\\am2800\\ColonyProcessing\\well_processor.py:540: FutureWarning: The plugin infrastructure in `skimage.io` is deprecated since version 0.25 and will be removed in 0.27 (or later). To avoid this warning, please do not pass additional keyword arguments for plugins (`**plugin_args`). Instead, use `imageio` or other I/O packages directly. See also `skimage.io.imsave`.\n",
      "  io.imsave(\n"
     ]
    },
    {
     "name": "stdout",
     "output_type": "stream",
     "text": [
      "make_projections done\n",
      "get_center_and_radius_stack done\n",
      "get_kymographs done\n",
      "get_ratio_df done\n",
      "L:/Cytation data/Stowers_Cytation/Chaise/NaCl run 08012025/Plate 5 100mM NaCl/#2562443447_ZProj\\../projections\n",
      "B4\n",
      "Directory already exists: L:/Cytation data/Stowers_Cytation/Chaise/NaCl run 08012025/Plate 5 100mM NaCl/#2562443447_ZProj\\../montages\n",
      "Directory already exists: L:/Cytation data/Stowers_Cytation/Chaise/NaCl run 08012025/Plate 5 100mM NaCl/#2562443447_ZProj\\../csvs\n",
      "Directory already exists: L:/Cytation data/Stowers_Cytation/Chaise/NaCl run 08012025/Plate 5 100mM NaCl/#2562443447_ZProj\\../projections\n",
      "Directory already exists: L:/Cytation data/Stowers_Cytation/Chaise/NaCl run 08012025/Plate 5 100mM NaCl/#2562443447_ZProj\\../segmentations\n",
      "Directory already exists: L:/Cytation data/Stowers_Cytation/Chaise/NaCl run 08012025/Plate 5 100mM NaCl/#2562443447_ZProj\\../cleared\n",
      "get_well done\n"
     ]
    },
    {
     "name": "stderr",
     "output_type": "stream",
     "text": [
      "100%|██████████████████████████████████████████████████████████████████████████████████| 49/49 [00:51<00:00,  1.04s/it]\n"
     ]
    },
    {
     "name": "stdout",
     "output_type": "stream",
     "text": [
      "register_images done\n"
     ]
    },
    {
     "name": "stderr",
     "output_type": "stream",
     "text": [
      "U:\\smc\\public\\am2800\\ColonyProcessing\\well_processor.py:267: RuntimeWarning: invalid value encountered in divide\n",
      "  combined = np.stack([self.tritc_cleared, self.yfp_cleared, self.yfp_cleared/self.tritc_cleared], axis=1)\n",
      "U:\\smc\\public\\am2800\\ColonyProcessing\\well_processor.py:270: FutureWarning: The plugin infrastructure in `skimage.io` is deprecated since version 0.25 and will be removed in 0.27 (or later). To avoid this warning, please do not pass additional keyword arguments for plugins (`**plugin_args`). Instead, use `imageio` or other I/O packages directly. See also `skimage.io.imsave`.\n",
      "  io.imsave(\n",
      "U:\\smc\\public\\am2800\\ColonyProcessing\\well_processor.py:287: RuntimeWarning: invalid value encountered in divide\n",
      "  ratio_img = self.yfp_cleared / self.tritc_cleared\n"
     ]
    },
    {
     "name": "stdout",
     "output_type": "stream",
     "text": [
      "get_masks done\n"
     ]
    },
    {
     "name": "stderr",
     "output_type": "stream",
     "text": [
      "U:\\smc\\public\\am2800\\ColonyProcessing\\well_processor.py:522: FutureWarning: The plugin infrastructure in `skimage.io` is deprecated since version 0.25 and will be removed in 0.27 (or later). To avoid this warning, please do not pass additional keyword arguments for plugins (`**plugin_args`). Instead, use `imageio` or other I/O packages directly. See also `skimage.io.imsave`.\n",
      "  io.imsave(\n",
      "U:\\smc\\public\\am2800\\ColonyProcessing\\well_processor.py:540: FutureWarning: The plugin infrastructure in `skimage.io` is deprecated since version 0.25 and will be removed in 0.27 (or later). To avoid this warning, please do not pass additional keyword arguments for plugins (`**plugin_args`). Instead, use `imageio` or other I/O packages directly. See also `skimage.io.imsave`.\n",
      "  io.imsave(\n"
     ]
    },
    {
     "name": "stdout",
     "output_type": "stream",
     "text": [
      "make_projections done\n",
      "get_center_and_radius_stack done\n",
      "get_kymographs done\n",
      "get_ratio_df done\n",
      "L:/Cytation data/Stowers_Cytation/Chaise/NaCl run 08012025/Plate 5 100mM NaCl/#2562443447_ZProj\\../projections\n",
      "B6\n",
      "Directory already exists: L:/Cytation data/Stowers_Cytation/Chaise/NaCl run 08012025/Plate 5 100mM NaCl/#2562443447_ZProj\\../montages\n",
      "Directory already exists: L:/Cytation data/Stowers_Cytation/Chaise/NaCl run 08012025/Plate 5 100mM NaCl/#2562443447_ZProj\\../csvs\n",
      "Directory already exists: L:/Cytation data/Stowers_Cytation/Chaise/NaCl run 08012025/Plate 5 100mM NaCl/#2562443447_ZProj\\../projections\n",
      "Directory already exists: L:/Cytation data/Stowers_Cytation/Chaise/NaCl run 08012025/Plate 5 100mM NaCl/#2562443447_ZProj\\../segmentations\n",
      "Directory already exists: L:/Cytation data/Stowers_Cytation/Chaise/NaCl run 08012025/Plate 5 100mM NaCl/#2562443447_ZProj\\../cleared\n",
      "get_well done\n"
     ]
    },
    {
     "name": "stderr",
     "output_type": "stream",
     "text": [
      "100%|██████████████████████████████████████████████████████████████████████████████████| 49/49 [00:49<00:00,  1.02s/it]\n"
     ]
    },
    {
     "name": "stdout",
     "output_type": "stream",
     "text": [
      "register_images done\n"
     ]
    },
    {
     "name": "stderr",
     "output_type": "stream",
     "text": [
      "U:\\smc\\public\\am2800\\ColonyProcessing\\well_processor.py:267: RuntimeWarning: divide by zero encountered in divide\n",
      "  combined = np.stack([self.tritc_cleared, self.yfp_cleared, self.yfp_cleared/self.tritc_cleared], axis=1)\n",
      "U:\\smc\\public\\am2800\\ColonyProcessing\\well_processor.py:267: RuntimeWarning: invalid value encountered in divide\n",
      "  combined = np.stack([self.tritc_cleared, self.yfp_cleared, self.yfp_cleared/self.tritc_cleared], axis=1)\n",
      "U:\\smc\\public\\am2800\\ColonyProcessing\\well_processor.py:270: FutureWarning: The plugin infrastructure in `skimage.io` is deprecated since version 0.25 and will be removed in 0.27 (or later). To avoid this warning, please do not pass additional keyword arguments for plugins (`**plugin_args`). Instead, use `imageio` or other I/O packages directly. See also `skimage.io.imsave`.\n",
      "  io.imsave(\n",
      "U:\\smc\\public\\am2800\\ColonyProcessing\\well_processor.py:287: RuntimeWarning: divide by zero encountered in divide\n",
      "  ratio_img = self.yfp_cleared / self.tritc_cleared\n",
      "U:\\smc\\public\\am2800\\ColonyProcessing\\well_processor.py:287: RuntimeWarning: invalid value encountered in divide\n",
      "  ratio_img = self.yfp_cleared / self.tritc_cleared\n"
     ]
    },
    {
     "name": "stdout",
     "output_type": "stream",
     "text": [
      "get_masks done\n"
     ]
    },
    {
     "name": "stderr",
     "output_type": "stream",
     "text": [
      "U:\\smc\\public\\am2800\\ColonyProcessing\\well_processor.py:522: FutureWarning: The plugin infrastructure in `skimage.io` is deprecated since version 0.25 and will be removed in 0.27 (or later). To avoid this warning, please do not pass additional keyword arguments for plugins (`**plugin_args`). Instead, use `imageio` or other I/O packages directly. See also `skimage.io.imsave`.\n",
      "  io.imsave(\n",
      "U:\\smc\\public\\am2800\\ColonyProcessing\\well_processor.py:540: FutureWarning: The plugin infrastructure in `skimage.io` is deprecated since version 0.25 and will be removed in 0.27 (or later). To avoid this warning, please do not pass additional keyword arguments for plugins (`**plugin_args`). Instead, use `imageio` or other I/O packages directly. See also `skimage.io.imsave`.\n",
      "  io.imsave(\n"
     ]
    },
    {
     "name": "stdout",
     "output_type": "stream",
     "text": [
      "make_projections done\n",
      "get_center_and_radius_stack done\n",
      "get_kymographs done\n",
      "get_ratio_df done\n",
      "L:/Cytation data/Stowers_Cytation/Chaise/NaCl run 08012025/Plate 5 100mM NaCl/#2562443447_ZProj\\../projections\n",
      "B8\n",
      "Directory already exists: L:/Cytation data/Stowers_Cytation/Chaise/NaCl run 08012025/Plate 5 100mM NaCl/#2562443447_ZProj\\../montages\n",
      "Directory already exists: L:/Cytation data/Stowers_Cytation/Chaise/NaCl run 08012025/Plate 5 100mM NaCl/#2562443447_ZProj\\../csvs\n",
      "Directory already exists: L:/Cytation data/Stowers_Cytation/Chaise/NaCl run 08012025/Plate 5 100mM NaCl/#2562443447_ZProj\\../projections\n",
      "Directory already exists: L:/Cytation data/Stowers_Cytation/Chaise/NaCl run 08012025/Plate 5 100mM NaCl/#2562443447_ZProj\\../segmentations\n",
      "Directory already exists: L:/Cytation data/Stowers_Cytation/Chaise/NaCl run 08012025/Plate 5 100mM NaCl/#2562443447_ZProj\\../cleared\n",
      "get_well done\n"
     ]
    },
    {
     "name": "stderr",
     "output_type": "stream",
     "text": [
      "100%|██████████████████████████████████████████████████████████████████████████████████| 49/49 [00:49<00:00,  1.01s/it]\n"
     ]
    },
    {
     "name": "stdout",
     "output_type": "stream",
     "text": [
      "register_images done\n"
     ]
    },
    {
     "name": "stderr",
     "output_type": "stream",
     "text": [
      "U:\\smc\\public\\am2800\\ColonyProcessing\\well_processor.py:267: RuntimeWarning: invalid value encountered in divide\n",
      "  combined = np.stack([self.tritc_cleared, self.yfp_cleared, self.yfp_cleared/self.tritc_cleared], axis=1)\n",
      "U:\\smc\\public\\am2800\\ColonyProcessing\\well_processor.py:270: FutureWarning: The plugin infrastructure in `skimage.io` is deprecated since version 0.25 and will be removed in 0.27 (or later). To avoid this warning, please do not pass additional keyword arguments for plugins (`**plugin_args`). Instead, use `imageio` or other I/O packages directly. See also `skimage.io.imsave`.\n",
      "  io.imsave(\n",
      "U:\\smc\\public\\am2800\\ColonyProcessing\\well_processor.py:287: RuntimeWarning: invalid value encountered in divide\n",
      "  ratio_img = self.yfp_cleared / self.tritc_cleared\n"
     ]
    },
    {
     "name": "stdout",
     "output_type": "stream",
     "text": [
      "get_masks done\n"
     ]
    },
    {
     "name": "stderr",
     "output_type": "stream",
     "text": [
      "U:\\smc\\public\\am2800\\ColonyProcessing\\well_processor.py:522: FutureWarning: The plugin infrastructure in `skimage.io` is deprecated since version 0.25 and will be removed in 0.27 (or later). To avoid this warning, please do not pass additional keyword arguments for plugins (`**plugin_args`). Instead, use `imageio` or other I/O packages directly. See also `skimage.io.imsave`.\n",
      "  io.imsave(\n",
      "U:\\smc\\public\\am2800\\ColonyProcessing\\well_processor.py:540: FutureWarning: The plugin infrastructure in `skimage.io` is deprecated since version 0.25 and will be removed in 0.27 (or later). To avoid this warning, please do not pass additional keyword arguments for plugins (`**plugin_args`). Instead, use `imageio` or other I/O packages directly. See also `skimage.io.imsave`.\n",
      "  io.imsave(\n"
     ]
    },
    {
     "name": "stdout",
     "output_type": "stream",
     "text": [
      "make_projections done\n",
      "get_center_and_radius_stack done\n",
      "get_kymographs done\n",
      "get_ratio_df done\n",
      "L:/Cytation data/Stowers_Cytation/Chaise/NaCl run 08012025/Plate 5 100mM NaCl/#2562443447_ZProj\\../projections\n",
      "D10\n",
      "Directory already exists: L:/Cytation data/Stowers_Cytation/Chaise/NaCl run 08012025/Plate 5 100mM NaCl/#2562443447_ZProj\\../montages\n",
      "Directory already exists: L:/Cytation data/Stowers_Cytation/Chaise/NaCl run 08012025/Plate 5 100mM NaCl/#2562443447_ZProj\\../csvs\n",
      "Directory already exists: L:/Cytation data/Stowers_Cytation/Chaise/NaCl run 08012025/Plate 5 100mM NaCl/#2562443447_ZProj\\../projections\n",
      "Directory already exists: L:/Cytation data/Stowers_Cytation/Chaise/NaCl run 08012025/Plate 5 100mM NaCl/#2562443447_ZProj\\../segmentations\n",
      "Directory already exists: L:/Cytation data/Stowers_Cytation/Chaise/NaCl run 08012025/Plate 5 100mM NaCl/#2562443447_ZProj\\../cleared\n",
      "get_well done\n"
     ]
    },
    {
     "name": "stderr",
     "output_type": "stream",
     "text": [
      "100%|██████████████████████████████████████████████████████████████████████████████████| 49/49 [00:51<00:00,  1.05s/it]\n"
     ]
    },
    {
     "name": "stdout",
     "output_type": "stream",
     "text": [
      "register_images done\n"
     ]
    },
    {
     "name": "stderr",
     "output_type": "stream",
     "text": [
      "U:\\smc\\public\\am2800\\ColonyProcessing\\well_processor.py:267: RuntimeWarning: invalid value encountered in divide\n",
      "  combined = np.stack([self.tritc_cleared, self.yfp_cleared, self.yfp_cleared/self.tritc_cleared], axis=1)\n",
      "U:\\smc\\public\\am2800\\ColonyProcessing\\well_processor.py:270: FutureWarning: The plugin infrastructure in `skimage.io` is deprecated since version 0.25 and will be removed in 0.27 (or later). To avoid this warning, please do not pass additional keyword arguments for plugins (`**plugin_args`). Instead, use `imageio` or other I/O packages directly. See also `skimage.io.imsave`.\n",
      "  io.imsave(\n",
      "U:\\smc\\public\\am2800\\ColonyProcessing\\well_processor.py:287: RuntimeWarning: invalid value encountered in divide\n",
      "  ratio_img = self.yfp_cleared / self.tritc_cleared\n"
     ]
    },
    {
     "name": "stdout",
     "output_type": "stream",
     "text": [
      "get_masks done\n"
     ]
    },
    {
     "name": "stderr",
     "output_type": "stream",
     "text": [
      "U:\\smc\\public\\am2800\\ColonyProcessing\\well_processor.py:522: FutureWarning: The plugin infrastructure in `skimage.io` is deprecated since version 0.25 and will be removed in 0.27 (or later). To avoid this warning, please do not pass additional keyword arguments for plugins (`**plugin_args`). Instead, use `imageio` or other I/O packages directly. See also `skimage.io.imsave`.\n",
      "  io.imsave(\n",
      "U:\\smc\\public\\am2800\\ColonyProcessing\\well_processor.py:540: FutureWarning: The plugin infrastructure in `skimage.io` is deprecated since version 0.25 and will be removed in 0.27 (or later). To avoid this warning, please do not pass additional keyword arguments for plugins (`**plugin_args`). Instead, use `imageio` or other I/O packages directly. See also `skimage.io.imsave`.\n",
      "  io.imsave(\n"
     ]
    },
    {
     "name": "stdout",
     "output_type": "stream",
     "text": [
      "make_projections done\n",
      "get_center_and_radius_stack done\n",
      "get_kymographs done\n",
      "get_ratio_df done\n",
      "L:/Cytation data/Stowers_Cytation/Chaise/NaCl run 08012025/Plate 5 100mM NaCl/#2562443447_ZProj\\../projections\n",
      "D2\n",
      "Directory already exists: L:/Cytation data/Stowers_Cytation/Chaise/NaCl run 08012025/Plate 5 100mM NaCl/#2562443447_ZProj\\../montages\n",
      "Directory already exists: L:/Cytation data/Stowers_Cytation/Chaise/NaCl run 08012025/Plate 5 100mM NaCl/#2562443447_ZProj\\../csvs\n",
      "Directory already exists: L:/Cytation data/Stowers_Cytation/Chaise/NaCl run 08012025/Plate 5 100mM NaCl/#2562443447_ZProj\\../projections\n",
      "Directory already exists: L:/Cytation data/Stowers_Cytation/Chaise/NaCl run 08012025/Plate 5 100mM NaCl/#2562443447_ZProj\\../segmentations\n",
      "Directory already exists: L:/Cytation data/Stowers_Cytation/Chaise/NaCl run 08012025/Plate 5 100mM NaCl/#2562443447_ZProj\\../cleared\n",
      "get_well done\n"
     ]
    },
    {
     "name": "stderr",
     "output_type": "stream",
     "text": [
      "100%|██████████████████████████████████████████████████████████████████████████████████| 49/49 [00:51<00:00,  1.05s/it]\n"
     ]
    },
    {
     "name": "stdout",
     "output_type": "stream",
     "text": [
      "register_images done\n"
     ]
    },
    {
     "name": "stderr",
     "output_type": "stream",
     "text": [
      "U:\\smc\\public\\am2800\\ColonyProcessing\\well_processor.py:267: RuntimeWarning: invalid value encountered in divide\n",
      "  combined = np.stack([self.tritc_cleared, self.yfp_cleared, self.yfp_cleared/self.tritc_cleared], axis=1)\n",
      "U:\\smc\\public\\am2800\\ColonyProcessing\\well_processor.py:270: FutureWarning: The plugin infrastructure in `skimage.io` is deprecated since version 0.25 and will be removed in 0.27 (or later). To avoid this warning, please do not pass additional keyword arguments for plugins (`**plugin_args`). Instead, use `imageio` or other I/O packages directly. See also `skimage.io.imsave`.\n",
      "  io.imsave(\n",
      "U:\\smc\\public\\am2800\\ColonyProcessing\\well_processor.py:287: RuntimeWarning: invalid value encountered in divide\n",
      "  ratio_img = self.yfp_cleared / self.tritc_cleared\n"
     ]
    },
    {
     "name": "stdout",
     "output_type": "stream",
     "text": [
      "get_masks done\n"
     ]
    },
    {
     "name": "stderr",
     "output_type": "stream",
     "text": [
      "U:\\smc\\public\\am2800\\ColonyProcessing\\well_processor.py:522: FutureWarning: The plugin infrastructure in `skimage.io` is deprecated since version 0.25 and will be removed in 0.27 (or later). To avoid this warning, please do not pass additional keyword arguments for plugins (`**plugin_args`). Instead, use `imageio` or other I/O packages directly. See also `skimage.io.imsave`.\n",
      "  io.imsave(\n",
      "U:\\smc\\public\\am2800\\ColonyProcessing\\well_processor.py:540: FutureWarning: The plugin infrastructure in `skimage.io` is deprecated since version 0.25 and will be removed in 0.27 (or later). To avoid this warning, please do not pass additional keyword arguments for plugins (`**plugin_args`). Instead, use `imageio` or other I/O packages directly. See also `skimage.io.imsave`.\n",
      "  io.imsave(\n"
     ]
    },
    {
     "name": "stdout",
     "output_type": "stream",
     "text": [
      "make_projections done\n",
      "get_center_and_radius_stack done\n",
      "get_kymographs done\n",
      "get_ratio_df done\n",
      "L:/Cytation data/Stowers_Cytation/Chaise/NaCl run 08012025/Plate 5 100mM NaCl/#2562443447_ZProj\\../projections\n",
      "D4\n",
      "Directory already exists: L:/Cytation data/Stowers_Cytation/Chaise/NaCl run 08012025/Plate 5 100mM NaCl/#2562443447_ZProj\\../montages\n",
      "Directory already exists: L:/Cytation data/Stowers_Cytation/Chaise/NaCl run 08012025/Plate 5 100mM NaCl/#2562443447_ZProj\\../csvs\n",
      "Directory already exists: L:/Cytation data/Stowers_Cytation/Chaise/NaCl run 08012025/Plate 5 100mM NaCl/#2562443447_ZProj\\../projections\n",
      "Directory already exists: L:/Cytation data/Stowers_Cytation/Chaise/NaCl run 08012025/Plate 5 100mM NaCl/#2562443447_ZProj\\../segmentations\n",
      "Directory already exists: L:/Cytation data/Stowers_Cytation/Chaise/NaCl run 08012025/Plate 5 100mM NaCl/#2562443447_ZProj\\../cleared\n",
      "get_well done\n"
     ]
    },
    {
     "name": "stderr",
     "output_type": "stream",
     "text": [
      "100%|██████████████████████████████████████████████████████████████████████████████████| 49/49 [00:52<00:00,  1.06s/it]\n"
     ]
    },
    {
     "name": "stdout",
     "output_type": "stream",
     "text": [
      "register_images done\n"
     ]
    },
    {
     "name": "stderr",
     "output_type": "stream",
     "text": [
      "U:\\smc\\public\\am2800\\ColonyProcessing\\well_processor.py:267: RuntimeWarning: invalid value encountered in divide\n",
      "  combined = np.stack([self.tritc_cleared, self.yfp_cleared, self.yfp_cleared/self.tritc_cleared], axis=1)\n",
      "U:\\smc\\public\\am2800\\ColonyProcessing\\well_processor.py:270: FutureWarning: The plugin infrastructure in `skimage.io` is deprecated since version 0.25 and will be removed in 0.27 (or later). To avoid this warning, please do not pass additional keyword arguments for plugins (`**plugin_args`). Instead, use `imageio` or other I/O packages directly. See also `skimage.io.imsave`.\n",
      "  io.imsave(\n",
      "U:\\smc\\public\\am2800\\ColonyProcessing\\well_processor.py:287: RuntimeWarning: invalid value encountered in divide\n",
      "  ratio_img = self.yfp_cleared / self.tritc_cleared\n"
     ]
    },
    {
     "name": "stdout",
     "output_type": "stream",
     "text": [
      "get_masks done\n"
     ]
    },
    {
     "name": "stderr",
     "output_type": "stream",
     "text": [
      "U:\\smc\\public\\am2800\\ColonyProcessing\\well_processor.py:522: FutureWarning: The plugin infrastructure in `skimage.io` is deprecated since version 0.25 and will be removed in 0.27 (or later). To avoid this warning, please do not pass additional keyword arguments for plugins (`**plugin_args`). Instead, use `imageio` or other I/O packages directly. See also `skimage.io.imsave`.\n",
      "  io.imsave(\n",
      "U:\\smc\\public\\am2800\\ColonyProcessing\\well_processor.py:540: FutureWarning: The plugin infrastructure in `skimage.io` is deprecated since version 0.25 and will be removed in 0.27 (or later). To avoid this warning, please do not pass additional keyword arguments for plugins (`**plugin_args`). Instead, use `imageio` or other I/O packages directly. See also `skimage.io.imsave`.\n",
      "  io.imsave(\n"
     ]
    },
    {
     "name": "stdout",
     "output_type": "stream",
     "text": [
      "make_projections done\n",
      "get_center_and_radius_stack done\n",
      "get_kymographs done\n",
      "get_ratio_df done\n",
      "L:/Cytation data/Stowers_Cytation/Chaise/NaCl run 08012025/Plate 5 100mM NaCl/#2562443447_ZProj\\../projections\n",
      "D6\n",
      "Directory already exists: L:/Cytation data/Stowers_Cytation/Chaise/NaCl run 08012025/Plate 5 100mM NaCl/#2562443447_ZProj\\../montages\n",
      "Directory already exists: L:/Cytation data/Stowers_Cytation/Chaise/NaCl run 08012025/Plate 5 100mM NaCl/#2562443447_ZProj\\../csvs\n",
      "Directory already exists: L:/Cytation data/Stowers_Cytation/Chaise/NaCl run 08012025/Plate 5 100mM NaCl/#2562443447_ZProj\\../projections\n",
      "Directory already exists: L:/Cytation data/Stowers_Cytation/Chaise/NaCl run 08012025/Plate 5 100mM NaCl/#2562443447_ZProj\\../segmentations\n",
      "Directory already exists: L:/Cytation data/Stowers_Cytation/Chaise/NaCl run 08012025/Plate 5 100mM NaCl/#2562443447_ZProj\\../cleared\n",
      "get_well done\n"
     ]
    },
    {
     "name": "stderr",
     "output_type": "stream",
     "text": [
      "100%|██████████████████████████████████████████████████████████████████████████████████| 49/49 [00:50<00:00,  1.03s/it]\n"
     ]
    },
    {
     "name": "stdout",
     "output_type": "stream",
     "text": [
      "register_images done\n"
     ]
    },
    {
     "name": "stderr",
     "output_type": "stream",
     "text": [
      "U:\\smc\\public\\am2800\\ColonyProcessing\\well_processor.py:267: RuntimeWarning: invalid value encountered in divide\n",
      "  combined = np.stack([self.tritc_cleared, self.yfp_cleared, self.yfp_cleared/self.tritc_cleared], axis=1)\n",
      "U:\\smc\\public\\am2800\\ColonyProcessing\\well_processor.py:270: FutureWarning: The plugin infrastructure in `skimage.io` is deprecated since version 0.25 and will be removed in 0.27 (or later). To avoid this warning, please do not pass additional keyword arguments for plugins (`**plugin_args`). Instead, use `imageio` or other I/O packages directly. See also `skimage.io.imsave`.\n",
      "  io.imsave(\n",
      "U:\\smc\\public\\am2800\\ColonyProcessing\\well_processor.py:287: RuntimeWarning: invalid value encountered in divide\n",
      "  ratio_img = self.yfp_cleared / self.tritc_cleared\n"
     ]
    },
    {
     "name": "stdout",
     "output_type": "stream",
     "text": [
      "get_masks done\n"
     ]
    },
    {
     "name": "stderr",
     "output_type": "stream",
     "text": [
      "U:\\smc\\public\\am2800\\ColonyProcessing\\well_processor.py:522: FutureWarning: The plugin infrastructure in `skimage.io` is deprecated since version 0.25 and will be removed in 0.27 (or later). To avoid this warning, please do not pass additional keyword arguments for plugins (`**plugin_args`). Instead, use `imageio` or other I/O packages directly. See also `skimage.io.imsave`.\n",
      "  io.imsave(\n",
      "U:\\smc\\public\\am2800\\ColonyProcessing\\well_processor.py:540: FutureWarning: The plugin infrastructure in `skimage.io` is deprecated since version 0.25 and will be removed in 0.27 (or later). To avoid this warning, please do not pass additional keyword arguments for plugins (`**plugin_args`). Instead, use `imageio` or other I/O packages directly. See also `skimage.io.imsave`.\n",
      "  io.imsave(\n"
     ]
    },
    {
     "name": "stdout",
     "output_type": "stream",
     "text": [
      "make_projections done\n",
      "get_center_and_radius_stack done\n",
      "get_kymographs done\n",
      "get_ratio_df done\n",
      "L:/Cytation data/Stowers_Cytation/Chaise/NaCl run 08012025/Plate 5 100mM NaCl/#2562443447_ZProj\\../projections\n",
      "D8\n",
      "Directory already exists: L:/Cytation data/Stowers_Cytation/Chaise/NaCl run 08012025/Plate 5 100mM NaCl/#2562443447_ZProj\\../montages\n",
      "Directory already exists: L:/Cytation data/Stowers_Cytation/Chaise/NaCl run 08012025/Plate 5 100mM NaCl/#2562443447_ZProj\\../csvs\n",
      "Directory already exists: L:/Cytation data/Stowers_Cytation/Chaise/NaCl run 08012025/Plate 5 100mM NaCl/#2562443447_ZProj\\../projections\n",
      "Directory already exists: L:/Cytation data/Stowers_Cytation/Chaise/NaCl run 08012025/Plate 5 100mM NaCl/#2562443447_ZProj\\../segmentations\n",
      "Directory already exists: L:/Cytation data/Stowers_Cytation/Chaise/NaCl run 08012025/Plate 5 100mM NaCl/#2562443447_ZProj\\../cleared\n",
      "get_well done\n"
     ]
    },
    {
     "name": "stderr",
     "output_type": "stream",
     "text": [
      "100%|██████████████████████████████████████████████████████████████████████████████████| 49/49 [00:49<00:00,  1.01s/it]\n"
     ]
    },
    {
     "name": "stdout",
     "output_type": "stream",
     "text": [
      "register_images done\n"
     ]
    },
    {
     "name": "stderr",
     "output_type": "stream",
     "text": [
      "U:\\smc\\public\\am2800\\ColonyProcessing\\well_processor.py:267: RuntimeWarning: invalid value encountered in divide\n",
      "  combined = np.stack([self.tritc_cleared, self.yfp_cleared, self.yfp_cleared/self.tritc_cleared], axis=1)\n",
      "U:\\smc\\public\\am2800\\ColonyProcessing\\well_processor.py:270: FutureWarning: The plugin infrastructure in `skimage.io` is deprecated since version 0.25 and will be removed in 0.27 (or later). To avoid this warning, please do not pass additional keyword arguments for plugins (`**plugin_args`). Instead, use `imageio` or other I/O packages directly. See also `skimage.io.imsave`.\n",
      "  io.imsave(\n",
      "U:\\smc\\public\\am2800\\ColonyProcessing\\well_processor.py:287: RuntimeWarning: invalid value encountered in divide\n",
      "  ratio_img = self.yfp_cleared / self.tritc_cleared\n"
     ]
    },
    {
     "name": "stdout",
     "output_type": "stream",
     "text": [
      "get_masks done\n"
     ]
    },
    {
     "name": "stderr",
     "output_type": "stream",
     "text": [
      "U:\\smc\\public\\am2800\\ColonyProcessing\\well_processor.py:522: FutureWarning: The plugin infrastructure in `skimage.io` is deprecated since version 0.25 and will be removed in 0.27 (or later). To avoid this warning, please do not pass additional keyword arguments for plugins (`**plugin_args`). Instead, use `imageio` or other I/O packages directly. See also `skimage.io.imsave`.\n",
      "  io.imsave(\n",
      "U:\\smc\\public\\am2800\\ColonyProcessing\\well_processor.py:540: FutureWarning: The plugin infrastructure in `skimage.io` is deprecated since version 0.25 and will be removed in 0.27 (or later). To avoid this warning, please do not pass additional keyword arguments for plugins (`**plugin_args`). Instead, use `imageio` or other I/O packages directly. See also `skimage.io.imsave`.\n",
      "  io.imsave(\n"
     ]
    },
    {
     "name": "stdout",
     "output_type": "stream",
     "text": [
      "make_projections done\n",
      "get_center_and_radius_stack done\n",
      "get_kymographs done\n",
      "get_ratio_df done\n",
      "L:/Cytation data/Stowers_Cytation/Chaise/NaCl run 08012025/Plate 5 100mM NaCl/#2562443447_ZProj\\../projections\n",
      "F10\n",
      "Directory already exists: L:/Cytation data/Stowers_Cytation/Chaise/NaCl run 08012025/Plate 5 100mM NaCl/#2562443447_ZProj\\../montages\n",
      "Directory already exists: L:/Cytation data/Stowers_Cytation/Chaise/NaCl run 08012025/Plate 5 100mM NaCl/#2562443447_ZProj\\../csvs\n",
      "Directory already exists: L:/Cytation data/Stowers_Cytation/Chaise/NaCl run 08012025/Plate 5 100mM NaCl/#2562443447_ZProj\\../projections\n",
      "Directory already exists: L:/Cytation data/Stowers_Cytation/Chaise/NaCl run 08012025/Plate 5 100mM NaCl/#2562443447_ZProj\\../segmentations\n",
      "Directory already exists: L:/Cytation data/Stowers_Cytation/Chaise/NaCl run 08012025/Plate 5 100mM NaCl/#2562443447_ZProj\\../cleared\n",
      "get_well done\n"
     ]
    },
    {
     "name": "stderr",
     "output_type": "stream",
     "text": [
      "100%|██████████████████████████████████████████████████████████████████████████████████| 49/49 [00:51<00:00,  1.06s/it]\n"
     ]
    },
    {
     "name": "stdout",
     "output_type": "stream",
     "text": [
      "register_images done\n"
     ]
    },
    {
     "name": "stderr",
     "output_type": "stream",
     "text": [
      "U:\\smc\\public\\am2800\\ColonyProcessing\\well_processor.py:267: RuntimeWarning: divide by zero encountered in divide\n",
      "  combined = np.stack([self.tritc_cleared, self.yfp_cleared, self.yfp_cleared/self.tritc_cleared], axis=1)\n",
      "U:\\smc\\public\\am2800\\ColonyProcessing\\well_processor.py:267: RuntimeWarning: invalid value encountered in divide\n",
      "  combined = np.stack([self.tritc_cleared, self.yfp_cleared, self.yfp_cleared/self.tritc_cleared], axis=1)\n",
      "U:\\smc\\public\\am2800\\ColonyProcessing\\well_processor.py:270: FutureWarning: The plugin infrastructure in `skimage.io` is deprecated since version 0.25 and will be removed in 0.27 (or later). To avoid this warning, please do not pass additional keyword arguments for plugins (`**plugin_args`). Instead, use `imageio` or other I/O packages directly. See also `skimage.io.imsave`.\n",
      "  io.imsave(\n",
      "U:\\smc\\public\\am2800\\ColonyProcessing\\well_processor.py:287: RuntimeWarning: divide by zero encountered in divide\n",
      "  ratio_img = self.yfp_cleared / self.tritc_cleared\n",
      "U:\\smc\\public\\am2800\\ColonyProcessing\\well_processor.py:287: RuntimeWarning: invalid value encountered in divide\n",
      "  ratio_img = self.yfp_cleared / self.tritc_cleared\n"
     ]
    },
    {
     "name": "stdout",
     "output_type": "stream",
     "text": [
      "get_masks done\n"
     ]
    },
    {
     "name": "stderr",
     "output_type": "stream",
     "text": [
      "U:\\smc\\public\\am2800\\ColonyProcessing\\well_processor.py:522: FutureWarning: The plugin infrastructure in `skimage.io` is deprecated since version 0.25 and will be removed in 0.27 (or later). To avoid this warning, please do not pass additional keyword arguments for plugins (`**plugin_args`). Instead, use `imageio` or other I/O packages directly. See also `skimage.io.imsave`.\n",
      "  io.imsave(\n",
      "U:\\smc\\public\\am2800\\ColonyProcessing\\well_processor.py:540: FutureWarning: The plugin infrastructure in `skimage.io` is deprecated since version 0.25 and will be removed in 0.27 (or later). To avoid this warning, please do not pass additional keyword arguments for plugins (`**plugin_args`). Instead, use `imageio` or other I/O packages directly. See also `skimage.io.imsave`.\n",
      "  io.imsave(\n"
     ]
    },
    {
     "name": "stdout",
     "output_type": "stream",
     "text": [
      "make_projections done\n",
      "get_center_and_radius_stack done\n",
      "get_kymographs done\n",
      "get_ratio_df done\n",
      "L:/Cytation data/Stowers_Cytation/Chaise/NaCl run 08012025/Plate 5 100mM NaCl/#2562443447_ZProj\\../projections\n",
      "F2\n",
      "Directory already exists: L:/Cytation data/Stowers_Cytation/Chaise/NaCl run 08012025/Plate 5 100mM NaCl/#2562443447_ZProj\\../montages\n",
      "Directory already exists: L:/Cytation data/Stowers_Cytation/Chaise/NaCl run 08012025/Plate 5 100mM NaCl/#2562443447_ZProj\\../csvs\n",
      "Directory already exists: L:/Cytation data/Stowers_Cytation/Chaise/NaCl run 08012025/Plate 5 100mM NaCl/#2562443447_ZProj\\../projections\n",
      "Directory already exists: L:/Cytation data/Stowers_Cytation/Chaise/NaCl run 08012025/Plate 5 100mM NaCl/#2562443447_ZProj\\../segmentations\n",
      "Directory already exists: L:/Cytation data/Stowers_Cytation/Chaise/NaCl run 08012025/Plate 5 100mM NaCl/#2562443447_ZProj\\../cleared\n",
      "get_well done\n"
     ]
    },
    {
     "name": "stderr",
     "output_type": "stream",
     "text": [
      "100%|██████████████████████████████████████████████████████████████████████████████████| 49/49 [00:51<00:00,  1.05s/it]\n"
     ]
    },
    {
     "name": "stdout",
     "output_type": "stream",
     "text": [
      "register_images done\n"
     ]
    },
    {
     "name": "stderr",
     "output_type": "stream",
     "text": [
      "U:\\smc\\public\\am2800\\ColonyProcessing\\well_processor.py:267: RuntimeWarning: invalid value encountered in divide\n",
      "  combined = np.stack([self.tritc_cleared, self.yfp_cleared, self.yfp_cleared/self.tritc_cleared], axis=1)\n",
      "U:\\smc\\public\\am2800\\ColonyProcessing\\well_processor.py:270: FutureWarning: The plugin infrastructure in `skimage.io` is deprecated since version 0.25 and will be removed in 0.27 (or later). To avoid this warning, please do not pass additional keyword arguments for plugins (`**plugin_args`). Instead, use `imageio` or other I/O packages directly. See also `skimage.io.imsave`.\n",
      "  io.imsave(\n",
      "U:\\smc\\public\\am2800\\ColonyProcessing\\well_processor.py:287: RuntimeWarning: invalid value encountered in divide\n",
      "  ratio_img = self.yfp_cleared / self.tritc_cleared\n"
     ]
    },
    {
     "name": "stdout",
     "output_type": "stream",
     "text": [
      "get_masks done\n"
     ]
    },
    {
     "name": "stderr",
     "output_type": "stream",
     "text": [
      "U:\\smc\\public\\am2800\\ColonyProcessing\\well_processor.py:522: FutureWarning: The plugin infrastructure in `skimage.io` is deprecated since version 0.25 and will be removed in 0.27 (or later). To avoid this warning, please do not pass additional keyword arguments for plugins (`**plugin_args`). Instead, use `imageio` or other I/O packages directly. See also `skimage.io.imsave`.\n",
      "  io.imsave(\n",
      "U:\\smc\\public\\am2800\\ColonyProcessing\\well_processor.py:540: FutureWarning: The plugin infrastructure in `skimage.io` is deprecated since version 0.25 and will be removed in 0.27 (or later). To avoid this warning, please do not pass additional keyword arguments for plugins (`**plugin_args`). Instead, use `imageio` or other I/O packages directly. See also `skimage.io.imsave`.\n",
      "  io.imsave(\n"
     ]
    },
    {
     "name": "stdout",
     "output_type": "stream",
     "text": [
      "make_projections done\n",
      "get_center_and_radius_stack done\n",
      "get_kymographs done\n",
      "get_ratio_df done\n",
      "L:/Cytation data/Stowers_Cytation/Chaise/NaCl run 08012025/Plate 5 100mM NaCl/#2562443447_ZProj\\../projections\n",
      "F4\n",
      "Directory already exists: L:/Cytation data/Stowers_Cytation/Chaise/NaCl run 08012025/Plate 5 100mM NaCl/#2562443447_ZProj\\../montages\n",
      "Directory already exists: L:/Cytation data/Stowers_Cytation/Chaise/NaCl run 08012025/Plate 5 100mM NaCl/#2562443447_ZProj\\../csvs\n",
      "Directory already exists: L:/Cytation data/Stowers_Cytation/Chaise/NaCl run 08012025/Plate 5 100mM NaCl/#2562443447_ZProj\\../projections\n",
      "Directory already exists: L:/Cytation data/Stowers_Cytation/Chaise/NaCl run 08012025/Plate 5 100mM NaCl/#2562443447_ZProj\\../segmentations\n",
      "Directory already exists: L:/Cytation data/Stowers_Cytation/Chaise/NaCl run 08012025/Plate 5 100mM NaCl/#2562443447_ZProj\\../cleared\n",
      "get_well done\n"
     ]
    },
    {
     "name": "stderr",
     "output_type": "stream",
     "text": [
      "100%|██████████████████████████████████████████████████████████████████████████████████| 49/49 [00:50<00:00,  1.03s/it]\n"
     ]
    },
    {
     "name": "stdout",
     "output_type": "stream",
     "text": [
      "register_images done\n"
     ]
    },
    {
     "name": "stderr",
     "output_type": "stream",
     "text": [
      "U:\\smc\\public\\am2800\\ColonyProcessing\\well_processor.py:267: RuntimeWarning: invalid value encountered in divide\n",
      "  combined = np.stack([self.tritc_cleared, self.yfp_cleared, self.yfp_cleared/self.tritc_cleared], axis=1)\n",
      "U:\\smc\\public\\am2800\\ColonyProcessing\\well_processor.py:270: FutureWarning: The plugin infrastructure in `skimage.io` is deprecated since version 0.25 and will be removed in 0.27 (or later). To avoid this warning, please do not pass additional keyword arguments for plugins (`**plugin_args`). Instead, use `imageio` or other I/O packages directly. See also `skimage.io.imsave`.\n",
      "  io.imsave(\n",
      "U:\\smc\\public\\am2800\\ColonyProcessing\\well_processor.py:287: RuntimeWarning: invalid value encountered in divide\n",
      "  ratio_img = self.yfp_cleared / self.tritc_cleared\n"
     ]
    },
    {
     "name": "stdout",
     "output_type": "stream",
     "text": [
      "get_masks done\n"
     ]
    },
    {
     "name": "stderr",
     "output_type": "stream",
     "text": [
      "U:\\smc\\public\\am2800\\ColonyProcessing\\well_processor.py:522: FutureWarning: The plugin infrastructure in `skimage.io` is deprecated since version 0.25 and will be removed in 0.27 (or later). To avoid this warning, please do not pass additional keyword arguments for plugins (`**plugin_args`). Instead, use `imageio` or other I/O packages directly. See also `skimage.io.imsave`.\n",
      "  io.imsave(\n",
      "U:\\smc\\public\\am2800\\ColonyProcessing\\well_processor.py:540: FutureWarning: The plugin infrastructure in `skimage.io` is deprecated since version 0.25 and will be removed in 0.27 (or later). To avoid this warning, please do not pass additional keyword arguments for plugins (`**plugin_args`). Instead, use `imageio` or other I/O packages directly. See also `skimage.io.imsave`.\n",
      "  io.imsave(\n"
     ]
    },
    {
     "name": "stdout",
     "output_type": "stream",
     "text": [
      "make_projections done\n",
      "get_center_and_radius_stack done\n",
      "get_kymographs done\n",
      "get_ratio_df done\n",
      "L:/Cytation data/Stowers_Cytation/Chaise/NaCl run 08012025/Plate 5 100mM NaCl/#2562443447_ZProj\\../projections\n",
      "F6\n",
      "Directory already exists: L:/Cytation data/Stowers_Cytation/Chaise/NaCl run 08012025/Plate 5 100mM NaCl/#2562443447_ZProj\\../montages\n",
      "Directory already exists: L:/Cytation data/Stowers_Cytation/Chaise/NaCl run 08012025/Plate 5 100mM NaCl/#2562443447_ZProj\\../csvs\n",
      "Directory already exists: L:/Cytation data/Stowers_Cytation/Chaise/NaCl run 08012025/Plate 5 100mM NaCl/#2562443447_ZProj\\../projections\n",
      "Directory already exists: L:/Cytation data/Stowers_Cytation/Chaise/NaCl run 08012025/Plate 5 100mM NaCl/#2562443447_ZProj\\../segmentations\n",
      "Directory already exists: L:/Cytation data/Stowers_Cytation/Chaise/NaCl run 08012025/Plate 5 100mM NaCl/#2562443447_ZProj\\../cleared\n",
      "get_well done\n"
     ]
    },
    {
     "name": "stderr",
     "output_type": "stream",
     "text": [
      "100%|██████████████████████████████████████████████████████████████████████████████████| 49/49 [00:49<00:00,  1.02s/it]\n"
     ]
    },
    {
     "name": "stdout",
     "output_type": "stream",
     "text": [
      "register_images done\n"
     ]
    },
    {
     "name": "stderr",
     "output_type": "stream",
     "text": [
      "U:\\smc\\public\\am2800\\ColonyProcessing\\well_processor.py:267: RuntimeWarning: divide by zero encountered in divide\n",
      "  combined = np.stack([self.tritc_cleared, self.yfp_cleared, self.yfp_cleared/self.tritc_cleared], axis=1)\n",
      "U:\\smc\\public\\am2800\\ColonyProcessing\\well_processor.py:267: RuntimeWarning: invalid value encountered in divide\n",
      "  combined = np.stack([self.tritc_cleared, self.yfp_cleared, self.yfp_cleared/self.tritc_cleared], axis=1)\n",
      "U:\\smc\\public\\am2800\\ColonyProcessing\\well_processor.py:270: FutureWarning: The plugin infrastructure in `skimage.io` is deprecated since version 0.25 and will be removed in 0.27 (or later). To avoid this warning, please do not pass additional keyword arguments for plugins (`**plugin_args`). Instead, use `imageio` or other I/O packages directly. See also `skimage.io.imsave`.\n",
      "  io.imsave(\n",
      "U:\\smc\\public\\am2800\\ColonyProcessing\\well_processor.py:287: RuntimeWarning: divide by zero encountered in divide\n",
      "  ratio_img = self.yfp_cleared / self.tritc_cleared\n",
      "U:\\smc\\public\\am2800\\ColonyProcessing\\well_processor.py:287: RuntimeWarning: invalid value encountered in divide\n",
      "  ratio_img = self.yfp_cleared / self.tritc_cleared\n"
     ]
    },
    {
     "name": "stdout",
     "output_type": "stream",
     "text": [
      "get_masks done\n"
     ]
    },
    {
     "name": "stderr",
     "output_type": "stream",
     "text": [
      "U:\\smc\\public\\am2800\\ColonyProcessing\\well_processor.py:522: FutureWarning: The plugin infrastructure in `skimage.io` is deprecated since version 0.25 and will be removed in 0.27 (or later). To avoid this warning, please do not pass additional keyword arguments for plugins (`**plugin_args`). Instead, use `imageio` or other I/O packages directly. See also `skimage.io.imsave`.\n",
      "  io.imsave(\n",
      "U:\\smc\\public\\am2800\\ColonyProcessing\\well_processor.py:540: FutureWarning: The plugin infrastructure in `skimage.io` is deprecated since version 0.25 and will be removed in 0.27 (or later). To avoid this warning, please do not pass additional keyword arguments for plugins (`**plugin_args`). Instead, use `imageio` or other I/O packages directly. See also `skimage.io.imsave`.\n",
      "  io.imsave(\n"
     ]
    },
    {
     "name": "stdout",
     "output_type": "stream",
     "text": [
      "make_projections done\n",
      "get_center_and_radius_stack done\n",
      "get_kymographs done\n",
      "get_ratio_df done\n",
      "L:/Cytation data/Stowers_Cytation/Chaise/NaCl run 08012025/Plate 5 100mM NaCl/#2562443447_ZProj\\../projections\n",
      "F8\n",
      "Directory already exists: L:/Cytation data/Stowers_Cytation/Chaise/NaCl run 08012025/Plate 5 100mM NaCl/#2562443447_ZProj\\../montages\n",
      "Directory already exists: L:/Cytation data/Stowers_Cytation/Chaise/NaCl run 08012025/Plate 5 100mM NaCl/#2562443447_ZProj\\../csvs\n",
      "Directory already exists: L:/Cytation data/Stowers_Cytation/Chaise/NaCl run 08012025/Plate 5 100mM NaCl/#2562443447_ZProj\\../projections\n",
      "Directory already exists: L:/Cytation data/Stowers_Cytation/Chaise/NaCl run 08012025/Plate 5 100mM NaCl/#2562443447_ZProj\\../segmentations\n",
      "Directory already exists: L:/Cytation data/Stowers_Cytation/Chaise/NaCl run 08012025/Plate 5 100mM NaCl/#2562443447_ZProj\\../cleared\n",
      "get_well done\n"
     ]
    },
    {
     "name": "stderr",
     "output_type": "stream",
     "text": [
      "100%|██████████████████████████████████████████████████████████████████████████████████| 49/49 [00:49<00:00,  1.02s/it]\n"
     ]
    },
    {
     "name": "stdout",
     "output_type": "stream",
     "text": [
      "register_images done\n"
     ]
    },
    {
     "name": "stderr",
     "output_type": "stream",
     "text": [
      "U:\\smc\\public\\am2800\\ColonyProcessing\\well_processor.py:267: RuntimeWarning: invalid value encountered in divide\n",
      "  combined = np.stack([self.tritc_cleared, self.yfp_cleared, self.yfp_cleared/self.tritc_cleared], axis=1)\n",
      "U:\\smc\\public\\am2800\\ColonyProcessing\\well_processor.py:270: FutureWarning: The plugin infrastructure in `skimage.io` is deprecated since version 0.25 and will be removed in 0.27 (or later). To avoid this warning, please do not pass additional keyword arguments for plugins (`**plugin_args`). Instead, use `imageio` or other I/O packages directly. See also `skimage.io.imsave`.\n",
      "  io.imsave(\n",
      "U:\\smc\\public\\am2800\\ColonyProcessing\\well_processor.py:287: RuntimeWarning: invalid value encountered in divide\n",
      "  ratio_img = self.yfp_cleared / self.tritc_cleared\n"
     ]
    },
    {
     "name": "stdout",
     "output_type": "stream",
     "text": [
      "get_masks done\n"
     ]
    },
    {
     "name": "stderr",
     "output_type": "stream",
     "text": [
      "U:\\smc\\public\\am2800\\ColonyProcessing\\well_processor.py:522: FutureWarning: The plugin infrastructure in `skimage.io` is deprecated since version 0.25 and will be removed in 0.27 (or later). To avoid this warning, please do not pass additional keyword arguments for plugins (`**plugin_args`). Instead, use `imageio` or other I/O packages directly. See also `skimage.io.imsave`.\n",
      "  io.imsave(\n",
      "U:\\smc\\public\\am2800\\ColonyProcessing\\well_processor.py:540: FutureWarning: The plugin infrastructure in `skimage.io` is deprecated since version 0.25 and will be removed in 0.27 (or later). To avoid this warning, please do not pass additional keyword arguments for plugins (`**plugin_args`). Instead, use `imageio` or other I/O packages directly. See also `skimage.io.imsave`.\n",
      "  io.imsave(\n"
     ]
    },
    {
     "name": "stdout",
     "output_type": "stream",
     "text": [
      "make_projections done\n",
      "get_center_and_radius_stack done\n",
      "get_kymographs done\n",
      "get_ratio_df done\n",
      "L:/Cytation data/Stowers_Cytation/Chaise/NaCl run 08012025/Plate 5 100mM NaCl/#2562443447_ZProj\\../projections\n",
      "120\n"
     ]
    }
   ],
   "source": [
    "for root_directory in list_of_directories:\n",
    "    well_list = pd.DataFrame({'fname':glob.glob(root_directory + '/*.tif')}).sort_values(by='fname')\n",
    "    well_list['well'] = well_list['fname'].str.split('\\\\').str[-1].str.split('_').str[0]\n",
    "\n",
    "\n",
    "    well_list = well_list['well'].unique()\n",
    "\n",
    "    processor = None\n",
    "    for well in well_list:\n",
    "        print(well)\n",
    "        processor = WellProcessor(well, root_directory, time_clip=10, time_resolution=1, first_frame_time_hr=0)\n",
    "        processor.process_well() # This will skip running if it sees something in the 'cleared' directory\n",
    "        \n",
    "    if processor is not None:\n",
    "        make_montages(processor.csv_dir+'/', processor.montage_dir+'/', processor.resolution, minz=[0,5000,0.2], dminz=[0,0,0], maxz=[40000,40000,1], dmaxz=[20000,3000,0.8]) # Maxz/dmaxz are in TRITC/YFP/Ratio order\n",
    "        merge_montages(processor.montage_dir)\n"
   ]
  },
  {
   "cell_type": "code",
   "execution_count": null,
   "metadata": {},
   "outputs": [],
   "source": []
  },
  {
   "cell_type": "code",
   "execution_count": null,
   "metadata": {},
   "outputs": [],
   "source": []
  },
  {
   "cell_type": "code",
   "execution_count": null,
   "metadata": {},
   "outputs": [],
   "source": []
  }
 ],
 "metadata": {
  "kernelspec": {
   "display_name": "Python 3 (ipykernel)",
   "language": "python",
   "name": "python3"
  },
  "language_info": {
   "codemirror_mode": {
    "name": "ipython",
    "version": 3
   },
   "file_extension": ".py",
   "mimetype": "text/x-python",
   "name": "python",
   "nbconvert_exporter": "python",
   "pygments_lexer": "ipython3",
   "version": "3.12.10"
  }
 },
 "nbformat": 4,
 "nbformat_minor": 4
}
