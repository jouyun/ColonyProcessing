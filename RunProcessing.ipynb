{
 "cells": [
  {
   "cell_type": "code",
   "execution_count": 7,
   "metadata": {},
   "outputs": [
    {
     "name": "stdout",
     "output_type": "stream",
     "text": [
      "The autoreload extension is already loaded. To reload it, use:\n",
      "  %reload_ext autoreload\n"
     ]
    }
   ],
   "source": [
    "%load_ext autoreload\n",
    "%autoreload 2\n",
    "import pandas as pd\n",
    "import glob\n",
    "from well_processor import WellProcessor, create_montage, merge_montages\n"
   ]
  },
  {
   "cell_type": "markdown",
   "metadata": {},
   "source": [
    "# Put your list of directories to process here"
   ]
  },
  {
   "cell_type": "markdown",
   "metadata": {},
   "source": [
    "1.  Make sure you use '/' as the file separator\n",
    "2.  Make sure you are using windows file paths (S:/micro/etc) and not macOS or linux\n",
    "3.  Make sure all directories are encased in single quotes, separate multiple directories with a comma"
   ]
  },
  {
   "cell_type": "code",
   "execution_count": 10,
   "metadata": {},
   "outputs": [],
   "source": [
    "list_of_directories = [ 'L:/Cytation data/Stowers_Cytation/Pranav/Testing DRACS reporters/250415_201019_Plate 6/#2532057972_ZProj_Max']"
   ]
  },
  {
   "cell_type": "markdown",
   "metadata": {},
   "source": [
    "# Then run this code"
   ]
  },
  {
   "cell_type": "code",
   "execution_count": 11,
   "metadata": {
    "scrolled": true
   },
   "outputs": [
    {
     "name": "stdout",
     "output_type": "stream",
     "text": [
      "Created directory: L:/Cytation data/Stowers_Cytation/Pranav/Testing DRACS reporters/250415_201019_Plate 6/#2532057972_ZProj_Max\\../montages\n",
      "Created directory: L:/Cytation data/Stowers_Cytation/Pranav/Testing DRACS reporters/250415_201019_Plate 6/#2532057972_ZProj_Max\\../csvs\n",
      "Created directory: L:/Cytation data/Stowers_Cytation/Pranav/Testing DRACS reporters/250415_201019_Plate 6/#2532057972_ZProj_Max\\../projections\n",
      "Created directory: L:/Cytation data/Stowers_Cytation/Pranav/Testing DRACS reporters/250415_201019_Plate 6/#2532057972_ZProj_Max\\../segmentations\n",
      "Created directory: L:/Cytation data/Stowers_Cytation/Pranav/Testing DRACS reporters/250415_201019_Plate 6/#2532057972_ZProj_Max\\../cleared\n",
      "get_well done\n"
     ]
    },
    {
     "name": "stderr",
     "output_type": "stream",
     "text": [
      "100%|██████████████████████████████████████████████████████████████████████████████████| 64/64 [01:06<00:00,  1.04s/it]\n"
     ]
    },
    {
     "name": "stdout",
     "output_type": "stream",
     "text": [
      "register_images done\n"
     ]
    },
    {
     "name": "stderr",
     "output_type": "stream",
     "text": [
      "U:\\smc\\public\\am2800\\ColonyProcessing\\well_processor.py:600: RuntimeWarning: divide by zero encountered in divide\n",
      "  combined = np.stack([self.tritc_cleared, self.yfp_cleared, self.yfp_cleared/self.tritc_cleared], axis=1)\n",
      "U:\\smc\\public\\am2800\\ColonyProcessing\\well_processor.py:600: RuntimeWarning: invalid value encountered in divide\n",
      "  combined = np.stack([self.tritc_cleared, self.yfp_cleared, self.yfp_cleared/self.tritc_cleared], axis=1)\n",
      "U:\\smc\\public\\am2800\\ColonyProcessing\\well_processor.py:603: FutureWarning: The plugin infrastructure in `skimage.io` is deprecated since version 0.25 and will be removed in 0.27 (or later). To avoid this warning, please do not pass additional keyword arguments for plugins (`**plugin_args`). Instead, use `imageio` or other I/O packages directly. See also `skimage.io.imsave`.\n",
      "  io.imsave(\n",
      "U:\\smc\\public\\am2800\\ColonyProcessing\\well_processor.py:620: RuntimeWarning: divide by zero encountered in divide\n",
      "  ratio_img = self.yfp_cleared / self.tritc_cleared\n",
      "U:\\smc\\public\\am2800\\ColonyProcessing\\well_processor.py:620: RuntimeWarning: invalid value encountered in divide\n",
      "  ratio_img = self.yfp_cleared / self.tritc_cleared\n",
      "U:\\smc\\public\\am2800\\ColonyProcessing\\well_processor.py:650: RuntimeWarning: divide by zero encountered in divide\n",
      "  combined = np.stack([self.tritc_cleared, self.yfp_cleared, self.yfp_cleared/self.tritc_cleared], axis=1)\n",
      "U:\\smc\\public\\am2800\\ColonyProcessing\\well_processor.py:650: RuntimeWarning: invalid value encountered in divide\n",
      "  combined = np.stack([self.tritc_cleared, self.yfp_cleared, self.yfp_cleared/self.tritc_cleared], axis=1)\n",
      "U:\\smc\\public\\am2800\\ColonyProcessing\\well_processor.py:654: FutureWarning: The plugin infrastructure in `skimage.io` is deprecated since version 0.25 and will be removed in 0.27 (or later). To avoid this warning, please do not pass additional keyword arguments for plugins (`**plugin_args`). Instead, use `imageio` or other I/O packages directly. See also `skimage.io.imsave`.\n",
      "  io.imsave(\n"
     ]
    },
    {
     "name": "stdout",
     "output_type": "stream",
     "text": [
      "get_masks done\n"
     ]
    },
    {
     "name": "stderr",
     "output_type": "stream",
     "text": [
      "U:\\smc\\public\\am2800\\ColonyProcessing\\well_processor.py:867: FutureWarning: The plugin infrastructure in `skimage.io` is deprecated since version 0.25 and will be removed in 0.27 (or later). To avoid this warning, please do not pass additional keyword arguments for plugins (`**plugin_args`). Instead, use `imageio` or other I/O packages directly. See also `skimage.io.imsave`.\n",
      "  io.imsave(\n",
      "U:\\smc\\public\\am2800\\ColonyProcessing\\well_processor.py:885: FutureWarning: The plugin infrastructure in `skimage.io` is deprecated since version 0.25 and will be removed in 0.27 (or later). To avoid this warning, please do not pass additional keyword arguments for plugins (`**plugin_args`). Instead, use `imageio` or other I/O packages directly. See also `skimage.io.imsave`.\n",
      "  io.imsave(\n"
     ]
    },
    {
     "name": "stdout",
     "output_type": "stream",
     "text": [
      "make_projections done\n",
      "get_center_and_radius_stack done\n",
      "get_kymographs done\n",
      "get_ratio_df done\n",
      "L:/Cytation data/Stowers_Cytation/Pranav/Testing DRACS reporters/250415_201019_Plate 6/#2532057972_ZProj_Max\\../projections\n",
      "Directory already exists: L:/Cytation data/Stowers_Cytation/Pranav/Testing DRACS reporters/250415_201019_Plate 6/#2532057972_ZProj_Max\\../montages\n",
      "Directory already exists: L:/Cytation data/Stowers_Cytation/Pranav/Testing DRACS reporters/250415_201019_Plate 6/#2532057972_ZProj_Max\\../csvs\n",
      "Directory already exists: L:/Cytation data/Stowers_Cytation/Pranav/Testing DRACS reporters/250415_201019_Plate 6/#2532057972_ZProj_Max\\../projections\n",
      "Directory already exists: L:/Cytation data/Stowers_Cytation/Pranav/Testing DRACS reporters/250415_201019_Plate 6/#2532057972_ZProj_Max\\../segmentations\n",
      "Directory already exists: L:/Cytation data/Stowers_Cytation/Pranav/Testing DRACS reporters/250415_201019_Plate 6/#2532057972_ZProj_Max\\../cleared\n",
      "get_well done\n"
     ]
    },
    {
     "name": "stderr",
     "output_type": "stream",
     "text": [
      "100%|██████████████████████████████████████████████████████████████████████████████████| 64/64 [02:05<00:00,  1.96s/it]\n"
     ]
    },
    {
     "name": "stdout",
     "output_type": "stream",
     "text": [
      "register_images done\n"
     ]
    },
    {
     "name": "stderr",
     "output_type": "stream",
     "text": [
      "U:\\smc\\public\\am2800\\ColonyProcessing\\well_processor.py:600: RuntimeWarning: divide by zero encountered in divide\n",
      "  combined = np.stack([self.tritc_cleared, self.yfp_cleared, self.yfp_cleared/self.tritc_cleared], axis=1)\n",
      "U:\\smc\\public\\am2800\\ColonyProcessing\\well_processor.py:600: RuntimeWarning: invalid value encountered in divide\n",
      "  combined = np.stack([self.tritc_cleared, self.yfp_cleared, self.yfp_cleared/self.tritc_cleared], axis=1)\n",
      "U:\\smc\\public\\am2800\\ColonyProcessing\\well_processor.py:603: FutureWarning: The plugin infrastructure in `skimage.io` is deprecated since version 0.25 and will be removed in 0.27 (or later). To avoid this warning, please do not pass additional keyword arguments for plugins (`**plugin_args`). Instead, use `imageio` or other I/O packages directly. See also `skimage.io.imsave`.\n",
      "  io.imsave(\n",
      "U:\\smc\\public\\am2800\\ColonyProcessing\\well_processor.py:620: RuntimeWarning: divide by zero encountered in divide\n",
      "  ratio_img = self.yfp_cleared / self.tritc_cleared\n",
      "U:\\smc\\public\\am2800\\ColonyProcessing\\well_processor.py:620: RuntimeWarning: invalid value encountered in divide\n",
      "  ratio_img = self.yfp_cleared / self.tritc_cleared\n",
      "U:\\smc\\public\\am2800\\ColonyProcessing\\well_processor.py:650: RuntimeWarning: divide by zero encountered in divide\n",
      "  combined = np.stack([self.tritc_cleared, self.yfp_cleared, self.yfp_cleared/self.tritc_cleared], axis=1)\n",
      "U:\\smc\\public\\am2800\\ColonyProcessing\\well_processor.py:650: RuntimeWarning: invalid value encountered in divide\n",
      "  combined = np.stack([self.tritc_cleared, self.yfp_cleared, self.yfp_cleared/self.tritc_cleared], axis=1)\n",
      "U:\\smc\\public\\am2800\\ColonyProcessing\\well_processor.py:654: FutureWarning: The plugin infrastructure in `skimage.io` is deprecated since version 0.25 and will be removed in 0.27 (or later). To avoid this warning, please do not pass additional keyword arguments for plugins (`**plugin_args`). Instead, use `imageio` or other I/O packages directly. See also `skimage.io.imsave`.\n",
      "  io.imsave(\n"
     ]
    },
    {
     "name": "stdout",
     "output_type": "stream",
     "text": [
      "get_masks done\n"
     ]
    },
    {
     "name": "stderr",
     "output_type": "stream",
     "text": [
      "U:\\smc\\public\\am2800\\ColonyProcessing\\well_processor.py:867: FutureWarning: The plugin infrastructure in `skimage.io` is deprecated since version 0.25 and will be removed in 0.27 (or later). To avoid this warning, please do not pass additional keyword arguments for plugins (`**plugin_args`). Instead, use `imageio` or other I/O packages directly. See also `skimage.io.imsave`.\n",
      "  io.imsave(\n",
      "U:\\smc\\public\\am2800\\ColonyProcessing\\well_processor.py:885: FutureWarning: The plugin infrastructure in `skimage.io` is deprecated since version 0.25 and will be removed in 0.27 (or later). To avoid this warning, please do not pass additional keyword arguments for plugins (`**plugin_args`). Instead, use `imageio` or other I/O packages directly. See also `skimage.io.imsave`.\n",
      "  io.imsave(\n"
     ]
    },
    {
     "name": "stdout",
     "output_type": "stream",
     "text": [
      "make_projections done\n",
      "get_center_and_radius_stack done\n",
      "get_kymographs done\n",
      "get_ratio_df done\n",
      "L:/Cytation data/Stowers_Cytation/Pranav/Testing DRACS reporters/250415_201019_Plate 6/#2532057972_ZProj_Max\\../projections\n",
      "Directory already exists: L:/Cytation data/Stowers_Cytation/Pranav/Testing DRACS reporters/250415_201019_Plate 6/#2532057972_ZProj_Max\\../montages\n",
      "Directory already exists: L:/Cytation data/Stowers_Cytation/Pranav/Testing DRACS reporters/250415_201019_Plate 6/#2532057972_ZProj_Max\\../csvs\n",
      "Directory already exists: L:/Cytation data/Stowers_Cytation/Pranav/Testing DRACS reporters/250415_201019_Plate 6/#2532057972_ZProj_Max\\../projections\n",
      "Directory already exists: L:/Cytation data/Stowers_Cytation/Pranav/Testing DRACS reporters/250415_201019_Plate 6/#2532057972_ZProj_Max\\../segmentations\n",
      "Directory already exists: L:/Cytation data/Stowers_Cytation/Pranav/Testing DRACS reporters/250415_201019_Plate 6/#2532057972_ZProj_Max\\../cleared\n",
      "get_well done\n"
     ]
    },
    {
     "name": "stderr",
     "output_type": "stream",
     "text": [
      "100%|██████████████████████████████████████████████████████████████████████████████████| 64/64 [01:12<00:00,  1.13s/it]\n"
     ]
    },
    {
     "name": "stdout",
     "output_type": "stream",
     "text": [
      "register_images done\n"
     ]
    },
    {
     "name": "stderr",
     "output_type": "stream",
     "text": [
      "U:\\smc\\public\\am2800\\ColonyProcessing\\well_processor.py:600: RuntimeWarning: divide by zero encountered in divide\n",
      "  combined = np.stack([self.tritc_cleared, self.yfp_cleared, self.yfp_cleared/self.tritc_cleared], axis=1)\n",
      "U:\\smc\\public\\am2800\\ColonyProcessing\\well_processor.py:600: RuntimeWarning: invalid value encountered in divide\n",
      "  combined = np.stack([self.tritc_cleared, self.yfp_cleared, self.yfp_cleared/self.tritc_cleared], axis=1)\n",
      "U:\\smc\\public\\am2800\\ColonyProcessing\\well_processor.py:603: FutureWarning: The plugin infrastructure in `skimage.io` is deprecated since version 0.25 and will be removed in 0.27 (or later). To avoid this warning, please do not pass additional keyword arguments for plugins (`**plugin_args`). Instead, use `imageio` or other I/O packages directly. See also `skimage.io.imsave`.\n",
      "  io.imsave(\n",
      "U:\\smc\\public\\am2800\\ColonyProcessing\\well_processor.py:620: RuntimeWarning: divide by zero encountered in divide\n",
      "  ratio_img = self.yfp_cleared / self.tritc_cleared\n",
      "U:\\smc\\public\\am2800\\ColonyProcessing\\well_processor.py:620: RuntimeWarning: invalid value encountered in divide\n",
      "  ratio_img = self.yfp_cleared / self.tritc_cleared\n",
      "U:\\smc\\public\\am2800\\ColonyProcessing\\well_processor.py:650: RuntimeWarning: divide by zero encountered in divide\n",
      "  combined = np.stack([self.tritc_cleared, self.yfp_cleared, self.yfp_cleared/self.tritc_cleared], axis=1)\n",
      "U:\\smc\\public\\am2800\\ColonyProcessing\\well_processor.py:650: RuntimeWarning: invalid value encountered in divide\n",
      "  combined = np.stack([self.tritc_cleared, self.yfp_cleared, self.yfp_cleared/self.tritc_cleared], axis=1)\n",
      "U:\\smc\\public\\am2800\\ColonyProcessing\\well_processor.py:654: FutureWarning: The plugin infrastructure in `skimage.io` is deprecated since version 0.25 and will be removed in 0.27 (or later). To avoid this warning, please do not pass additional keyword arguments for plugins (`**plugin_args`). Instead, use `imageio` or other I/O packages directly. See also `skimage.io.imsave`.\n",
      "  io.imsave(\n"
     ]
    },
    {
     "name": "stdout",
     "output_type": "stream",
     "text": [
      "get_masks done\n"
     ]
    },
    {
     "name": "stderr",
     "output_type": "stream",
     "text": [
      "U:\\smc\\public\\am2800\\ColonyProcessing\\well_processor.py:867: FutureWarning: The plugin infrastructure in `skimage.io` is deprecated since version 0.25 and will be removed in 0.27 (or later). To avoid this warning, please do not pass additional keyword arguments for plugins (`**plugin_args`). Instead, use `imageio` or other I/O packages directly. See also `skimage.io.imsave`.\n",
      "  io.imsave(\n",
      "U:\\smc\\public\\am2800\\ColonyProcessing\\well_processor.py:885: FutureWarning: The plugin infrastructure in `skimage.io` is deprecated since version 0.25 and will be removed in 0.27 (or later). To avoid this warning, please do not pass additional keyword arguments for plugins (`**plugin_args`). Instead, use `imageio` or other I/O packages directly. See also `skimage.io.imsave`.\n",
      "  io.imsave(\n"
     ]
    },
    {
     "name": "stdout",
     "output_type": "stream",
     "text": [
      "make_projections done\n",
      "get_center_and_radius_stack done\n",
      "get_kymographs done\n",
      "get_ratio_df done\n",
      "L:/Cytation data/Stowers_Cytation/Pranav/Testing DRACS reporters/250415_201019_Plate 6/#2532057972_ZProj_Max\\../projections\n",
      "Directory already exists: L:/Cytation data/Stowers_Cytation/Pranav/Testing DRACS reporters/250415_201019_Plate 6/#2532057972_ZProj_Max\\../montages\n",
      "Directory already exists: L:/Cytation data/Stowers_Cytation/Pranav/Testing DRACS reporters/250415_201019_Plate 6/#2532057972_ZProj_Max\\../csvs\n",
      "Directory already exists: L:/Cytation data/Stowers_Cytation/Pranav/Testing DRACS reporters/250415_201019_Plate 6/#2532057972_ZProj_Max\\../projections\n",
      "Directory already exists: L:/Cytation data/Stowers_Cytation/Pranav/Testing DRACS reporters/250415_201019_Plate 6/#2532057972_ZProj_Max\\../segmentations\n",
      "Directory already exists: L:/Cytation data/Stowers_Cytation/Pranav/Testing DRACS reporters/250415_201019_Plate 6/#2532057972_ZProj_Max\\../cleared\n",
      "get_well done\n"
     ]
    },
    {
     "name": "stderr",
     "output_type": "stream",
     "text": [
      "100%|██████████████████████████████████████████████████████████████████████████████████| 64/64 [01:03<00:00,  1.01it/s]\n"
     ]
    },
    {
     "name": "stdout",
     "output_type": "stream",
     "text": [
      "register_images done\n"
     ]
    },
    {
     "name": "stderr",
     "output_type": "stream",
     "text": [
      "U:\\smc\\public\\am2800\\ColonyProcessing\\well_processor.py:600: RuntimeWarning: divide by zero encountered in divide\n",
      "  combined = np.stack([self.tritc_cleared, self.yfp_cleared, self.yfp_cleared/self.tritc_cleared], axis=1)\n",
      "U:\\smc\\public\\am2800\\ColonyProcessing\\well_processor.py:600: RuntimeWarning: invalid value encountered in divide\n",
      "  combined = np.stack([self.tritc_cleared, self.yfp_cleared, self.yfp_cleared/self.tritc_cleared], axis=1)\n",
      "U:\\smc\\public\\am2800\\ColonyProcessing\\well_processor.py:603: FutureWarning: The plugin infrastructure in `skimage.io` is deprecated since version 0.25 and will be removed in 0.27 (or later). To avoid this warning, please do not pass additional keyword arguments for plugins (`**plugin_args`). Instead, use `imageio` or other I/O packages directly. See also `skimage.io.imsave`.\n",
      "  io.imsave(\n",
      "U:\\smc\\public\\am2800\\ColonyProcessing\\well_processor.py:620: RuntimeWarning: divide by zero encountered in divide\n",
      "  ratio_img = self.yfp_cleared / self.tritc_cleared\n",
      "U:\\smc\\public\\am2800\\ColonyProcessing\\well_processor.py:620: RuntimeWarning: invalid value encountered in divide\n",
      "  ratio_img = self.yfp_cleared / self.tritc_cleared\n",
      "U:\\smc\\public\\am2800\\ColonyProcessing\\well_processor.py:650: RuntimeWarning: divide by zero encountered in divide\n",
      "  combined = np.stack([self.tritc_cleared, self.yfp_cleared, self.yfp_cleared/self.tritc_cleared], axis=1)\n",
      "U:\\smc\\public\\am2800\\ColonyProcessing\\well_processor.py:650: RuntimeWarning: invalid value encountered in divide\n",
      "  combined = np.stack([self.tritc_cleared, self.yfp_cleared, self.yfp_cleared/self.tritc_cleared], axis=1)\n",
      "U:\\smc\\public\\am2800\\ColonyProcessing\\well_processor.py:654: FutureWarning: The plugin infrastructure in `skimage.io` is deprecated since version 0.25 and will be removed in 0.27 (or later). To avoid this warning, please do not pass additional keyword arguments for plugins (`**plugin_args`). Instead, use `imageio` or other I/O packages directly. See also `skimage.io.imsave`.\n",
      "  io.imsave(\n"
     ]
    },
    {
     "name": "stdout",
     "output_type": "stream",
     "text": [
      "get_masks done\n"
     ]
    },
    {
     "name": "stderr",
     "output_type": "stream",
     "text": [
      "U:\\smc\\public\\am2800\\ColonyProcessing\\well_processor.py:867: FutureWarning: The plugin infrastructure in `skimage.io` is deprecated since version 0.25 and will be removed in 0.27 (or later). To avoid this warning, please do not pass additional keyword arguments for plugins (`**plugin_args`). Instead, use `imageio` or other I/O packages directly. See also `skimage.io.imsave`.\n",
      "  io.imsave(\n",
      "U:\\smc\\public\\am2800\\ColonyProcessing\\well_processor.py:885: FutureWarning: The plugin infrastructure in `skimage.io` is deprecated since version 0.25 and will be removed in 0.27 (or later). To avoid this warning, please do not pass additional keyword arguments for plugins (`**plugin_args`). Instead, use `imageio` or other I/O packages directly. See also `skimage.io.imsave`.\n",
      "  io.imsave(\n"
     ]
    },
    {
     "name": "stdout",
     "output_type": "stream",
     "text": [
      "make_projections done\n",
      "get_center_and_radius_stack done\n",
      "get_kymographs done\n",
      "get_ratio_df done\n",
      "L:/Cytation data/Stowers_Cytation/Pranav/Testing DRACS reporters/250415_201019_Plate 6/#2532057972_ZProj_Max\\../projections\n",
      "Directory already exists: L:/Cytation data/Stowers_Cytation/Pranav/Testing DRACS reporters/250415_201019_Plate 6/#2532057972_ZProj_Max\\../montages\n",
      "Directory already exists: L:/Cytation data/Stowers_Cytation/Pranav/Testing DRACS reporters/250415_201019_Plate 6/#2532057972_ZProj_Max\\../csvs\n",
      "Directory already exists: L:/Cytation data/Stowers_Cytation/Pranav/Testing DRACS reporters/250415_201019_Plate 6/#2532057972_ZProj_Max\\../projections\n",
      "Directory already exists: L:/Cytation data/Stowers_Cytation/Pranav/Testing DRACS reporters/250415_201019_Plate 6/#2532057972_ZProj_Max\\../segmentations\n",
      "Directory already exists: L:/Cytation data/Stowers_Cytation/Pranav/Testing DRACS reporters/250415_201019_Plate 6/#2532057972_ZProj_Max\\../cleared\n",
      "get_well done\n"
     ]
    },
    {
     "name": "stderr",
     "output_type": "stream",
     "text": [
      "100%|██████████████████████████████████████████████████████████████████████████████████| 64/64 [02:07<00:00,  1.99s/it]\n"
     ]
    },
    {
     "name": "stdout",
     "output_type": "stream",
     "text": [
      "register_images done\n"
     ]
    },
    {
     "name": "stderr",
     "output_type": "stream",
     "text": [
      "U:\\smc\\public\\am2800\\ColonyProcessing\\well_processor.py:600: RuntimeWarning: invalid value encountered in divide\n",
      "  combined = np.stack([self.tritc_cleared, self.yfp_cleared, self.yfp_cleared/self.tritc_cleared], axis=1)\n",
      "U:\\smc\\public\\am2800\\ColonyProcessing\\well_processor.py:603: FutureWarning: The plugin infrastructure in `skimage.io` is deprecated since version 0.25 and will be removed in 0.27 (or later). To avoid this warning, please do not pass additional keyword arguments for plugins (`**plugin_args`). Instead, use `imageio` or other I/O packages directly. See also `skimage.io.imsave`.\n",
      "  io.imsave(\n",
      "U:\\smc\\public\\am2800\\ColonyProcessing\\well_processor.py:620: RuntimeWarning: invalid value encountered in divide\n",
      "  ratio_img = self.yfp_cleared / self.tritc_cleared\n",
      "U:\\smc\\public\\am2800\\ColonyProcessing\\well_processor.py:650: RuntimeWarning: invalid value encountered in divide\n",
      "  combined = np.stack([self.tritc_cleared, self.yfp_cleared, self.yfp_cleared/self.tritc_cleared], axis=1)\n",
      "U:\\smc\\public\\am2800\\ColonyProcessing\\well_processor.py:654: FutureWarning: The plugin infrastructure in `skimage.io` is deprecated since version 0.25 and will be removed in 0.27 (or later). To avoid this warning, please do not pass additional keyword arguments for plugins (`**plugin_args`). Instead, use `imageio` or other I/O packages directly. See also `skimage.io.imsave`.\n",
      "  io.imsave(\n"
     ]
    },
    {
     "name": "stdout",
     "output_type": "stream",
     "text": [
      "get_masks done\n"
     ]
    },
    {
     "name": "stderr",
     "output_type": "stream",
     "text": [
      "U:\\smc\\public\\am2800\\ColonyProcessing\\well_processor.py:867: FutureWarning: The plugin infrastructure in `skimage.io` is deprecated since version 0.25 and will be removed in 0.27 (or later). To avoid this warning, please do not pass additional keyword arguments for plugins (`**plugin_args`). Instead, use `imageio` or other I/O packages directly. See also `skimage.io.imsave`.\n",
      "  io.imsave(\n",
      "U:\\smc\\public\\am2800\\ColonyProcessing\\well_processor.py:885: FutureWarning: The plugin infrastructure in `skimage.io` is deprecated since version 0.25 and will be removed in 0.27 (or later). To avoid this warning, please do not pass additional keyword arguments for plugins (`**plugin_args`). Instead, use `imageio` or other I/O packages directly. See also `skimage.io.imsave`.\n",
      "  io.imsave(\n"
     ]
    },
    {
     "name": "stdout",
     "output_type": "stream",
     "text": [
      "make_projections done\n",
      "get_center_and_radius_stack done\n",
      "get_kymographs done\n",
      "get_ratio_df done\n",
      "L:/Cytation data/Stowers_Cytation/Pranav/Testing DRACS reporters/250415_201019_Plate 6/#2532057972_ZProj_Max\\../projections\n",
      "Directory already exists: L:/Cytation data/Stowers_Cytation/Pranav/Testing DRACS reporters/250415_201019_Plate 6/#2532057972_ZProj_Max\\../montages\n",
      "Directory already exists: L:/Cytation data/Stowers_Cytation/Pranav/Testing DRACS reporters/250415_201019_Plate 6/#2532057972_ZProj_Max\\../csvs\n",
      "Directory already exists: L:/Cytation data/Stowers_Cytation/Pranav/Testing DRACS reporters/250415_201019_Plate 6/#2532057972_ZProj_Max\\../projections\n",
      "Directory already exists: L:/Cytation data/Stowers_Cytation/Pranav/Testing DRACS reporters/250415_201019_Plate 6/#2532057972_ZProj_Max\\../segmentations\n",
      "Directory already exists: L:/Cytation data/Stowers_Cytation/Pranav/Testing DRACS reporters/250415_201019_Plate 6/#2532057972_ZProj_Max\\../cleared\n",
      "get_well done\n"
     ]
    },
    {
     "name": "stderr",
     "output_type": "stream",
     "text": [
      "100%|██████████████████████████████████████████████████████████████████████████████████| 64/64 [01:05<00:00,  1.03s/it]\n"
     ]
    },
    {
     "name": "stdout",
     "output_type": "stream",
     "text": [
      "register_images done\n"
     ]
    },
    {
     "name": "stderr",
     "output_type": "stream",
     "text": [
      "U:\\smc\\public\\am2800\\ColonyProcessing\\well_processor.py:600: RuntimeWarning: divide by zero encountered in divide\n",
      "  combined = np.stack([self.tritc_cleared, self.yfp_cleared, self.yfp_cleared/self.tritc_cleared], axis=1)\n",
      "U:\\smc\\public\\am2800\\ColonyProcessing\\well_processor.py:600: RuntimeWarning: invalid value encountered in divide\n",
      "  combined = np.stack([self.tritc_cleared, self.yfp_cleared, self.yfp_cleared/self.tritc_cleared], axis=1)\n",
      "U:\\smc\\public\\am2800\\ColonyProcessing\\well_processor.py:603: FutureWarning: The plugin infrastructure in `skimage.io` is deprecated since version 0.25 and will be removed in 0.27 (or later). To avoid this warning, please do not pass additional keyword arguments for plugins (`**plugin_args`). Instead, use `imageio` or other I/O packages directly. See also `skimage.io.imsave`.\n",
      "  io.imsave(\n",
      "U:\\smc\\public\\am2800\\ColonyProcessing\\well_processor.py:620: RuntimeWarning: divide by zero encountered in divide\n",
      "  ratio_img = self.yfp_cleared / self.tritc_cleared\n",
      "U:\\smc\\public\\am2800\\ColonyProcessing\\well_processor.py:620: RuntimeWarning: invalid value encountered in divide\n",
      "  ratio_img = self.yfp_cleared / self.tritc_cleared\n",
      "U:\\smc\\public\\am2800\\ColonyProcessing\\well_processor.py:650: RuntimeWarning: divide by zero encountered in divide\n",
      "  combined = np.stack([self.tritc_cleared, self.yfp_cleared, self.yfp_cleared/self.tritc_cleared], axis=1)\n",
      "U:\\smc\\public\\am2800\\ColonyProcessing\\well_processor.py:650: RuntimeWarning: invalid value encountered in divide\n",
      "  combined = np.stack([self.tritc_cleared, self.yfp_cleared, self.yfp_cleared/self.tritc_cleared], axis=1)\n",
      "U:\\smc\\public\\am2800\\ColonyProcessing\\well_processor.py:654: FutureWarning: The plugin infrastructure in `skimage.io` is deprecated since version 0.25 and will be removed in 0.27 (or later). To avoid this warning, please do not pass additional keyword arguments for plugins (`**plugin_args`). Instead, use `imageio` or other I/O packages directly. See also `skimage.io.imsave`.\n",
      "  io.imsave(\n"
     ]
    },
    {
     "name": "stdout",
     "output_type": "stream",
     "text": [
      "get_masks done\n"
     ]
    },
    {
     "name": "stderr",
     "output_type": "stream",
     "text": [
      "U:\\smc\\public\\am2800\\ColonyProcessing\\well_processor.py:867: FutureWarning: The plugin infrastructure in `skimage.io` is deprecated since version 0.25 and will be removed in 0.27 (or later). To avoid this warning, please do not pass additional keyword arguments for plugins (`**plugin_args`). Instead, use `imageio` or other I/O packages directly. See also `skimage.io.imsave`.\n",
      "  io.imsave(\n",
      "U:\\smc\\public\\am2800\\ColonyProcessing\\well_processor.py:885: FutureWarning: The plugin infrastructure in `skimage.io` is deprecated since version 0.25 and will be removed in 0.27 (or later). To avoid this warning, please do not pass additional keyword arguments for plugins (`**plugin_args`). Instead, use `imageio` or other I/O packages directly. See also `skimage.io.imsave`.\n",
      "  io.imsave(\n"
     ]
    },
    {
     "name": "stdout",
     "output_type": "stream",
     "text": [
      "make_projections done\n",
      "get_center_and_radius_stack done\n",
      "get_kymographs done\n",
      "get_ratio_df done\n",
      "L:/Cytation data/Stowers_Cytation/Pranav/Testing DRACS reporters/250415_201019_Plate 6/#2532057972_ZProj_Max\\../projections\n",
      "Directory already exists: L:/Cytation data/Stowers_Cytation/Pranav/Testing DRACS reporters/250415_201019_Plate 6/#2532057972_ZProj_Max\\../montages\n",
      "Directory already exists: L:/Cytation data/Stowers_Cytation/Pranav/Testing DRACS reporters/250415_201019_Plate 6/#2532057972_ZProj_Max\\../csvs\n",
      "Directory already exists: L:/Cytation data/Stowers_Cytation/Pranav/Testing DRACS reporters/250415_201019_Plate 6/#2532057972_ZProj_Max\\../projections\n",
      "Directory already exists: L:/Cytation data/Stowers_Cytation/Pranav/Testing DRACS reporters/250415_201019_Plate 6/#2532057972_ZProj_Max\\../segmentations\n",
      "Directory already exists: L:/Cytation data/Stowers_Cytation/Pranav/Testing DRACS reporters/250415_201019_Plate 6/#2532057972_ZProj_Max\\../cleared\n",
      "get_well done\n"
     ]
    },
    {
     "name": "stderr",
     "output_type": "stream",
     "text": [
      "100%|██████████████████████████████████████████████████████████████████████████████████| 64/64 [01:06<00:00,  1.03s/it]\n"
     ]
    },
    {
     "name": "stdout",
     "output_type": "stream",
     "text": [
      "register_images done\n"
     ]
    },
    {
     "name": "stderr",
     "output_type": "stream",
     "text": [
      "U:\\smc\\public\\am2800\\ColonyProcessing\\well_processor.py:600: RuntimeWarning: divide by zero encountered in divide\n",
      "  combined = np.stack([self.tritc_cleared, self.yfp_cleared, self.yfp_cleared/self.tritc_cleared], axis=1)\n",
      "U:\\smc\\public\\am2800\\ColonyProcessing\\well_processor.py:600: RuntimeWarning: invalid value encountered in divide\n",
      "  combined = np.stack([self.tritc_cleared, self.yfp_cleared, self.yfp_cleared/self.tritc_cleared], axis=1)\n",
      "U:\\smc\\public\\am2800\\ColonyProcessing\\well_processor.py:603: FutureWarning: The plugin infrastructure in `skimage.io` is deprecated since version 0.25 and will be removed in 0.27 (or later). To avoid this warning, please do not pass additional keyword arguments for plugins (`**plugin_args`). Instead, use `imageio` or other I/O packages directly. See also `skimage.io.imsave`.\n",
      "  io.imsave(\n",
      "U:\\smc\\public\\am2800\\ColonyProcessing\\well_processor.py:620: RuntimeWarning: divide by zero encountered in divide\n",
      "  ratio_img = self.yfp_cleared / self.tritc_cleared\n",
      "U:\\smc\\public\\am2800\\ColonyProcessing\\well_processor.py:620: RuntimeWarning: invalid value encountered in divide\n",
      "  ratio_img = self.yfp_cleared / self.tritc_cleared\n",
      "U:\\smc\\public\\am2800\\ColonyProcessing\\well_processor.py:650: RuntimeWarning: divide by zero encountered in divide\n",
      "  combined = np.stack([self.tritc_cleared, self.yfp_cleared, self.yfp_cleared/self.tritc_cleared], axis=1)\n",
      "U:\\smc\\public\\am2800\\ColonyProcessing\\well_processor.py:650: RuntimeWarning: invalid value encountered in divide\n",
      "  combined = np.stack([self.tritc_cleared, self.yfp_cleared, self.yfp_cleared/self.tritc_cleared], axis=1)\n",
      "U:\\smc\\public\\am2800\\ColonyProcessing\\well_processor.py:654: FutureWarning: The plugin infrastructure in `skimage.io` is deprecated since version 0.25 and will be removed in 0.27 (or later). To avoid this warning, please do not pass additional keyword arguments for plugins (`**plugin_args`). Instead, use `imageio` or other I/O packages directly. See also `skimage.io.imsave`.\n",
      "  io.imsave(\n"
     ]
    },
    {
     "name": "stdout",
     "output_type": "stream",
     "text": [
      "get_masks done\n"
     ]
    },
    {
     "name": "stderr",
     "output_type": "stream",
     "text": [
      "U:\\smc\\public\\am2800\\ColonyProcessing\\well_processor.py:867: FutureWarning: The plugin infrastructure in `skimage.io` is deprecated since version 0.25 and will be removed in 0.27 (or later). To avoid this warning, please do not pass additional keyword arguments for plugins (`**plugin_args`). Instead, use `imageio` or other I/O packages directly. See also `skimage.io.imsave`.\n",
      "  io.imsave(\n",
      "U:\\smc\\public\\am2800\\ColonyProcessing\\well_processor.py:885: FutureWarning: The plugin infrastructure in `skimage.io` is deprecated since version 0.25 and will be removed in 0.27 (or later). To avoid this warning, please do not pass additional keyword arguments for plugins (`**plugin_args`). Instead, use `imageio` or other I/O packages directly. See also `skimage.io.imsave`.\n",
      "  io.imsave(\n"
     ]
    },
    {
     "name": "stdout",
     "output_type": "stream",
     "text": [
      "make_projections done\n",
      "get_center_and_radius_stack done\n",
      "get_kymographs done\n",
      "get_ratio_df done\n",
      "L:/Cytation data/Stowers_Cytation/Pranav/Testing DRACS reporters/250415_201019_Plate 6/#2532057972_ZProj_Max\\../projections\n",
      "Directory already exists: L:/Cytation data/Stowers_Cytation/Pranav/Testing DRACS reporters/250415_201019_Plate 6/#2532057972_ZProj_Max\\../montages\n",
      "Directory already exists: L:/Cytation data/Stowers_Cytation/Pranav/Testing DRACS reporters/250415_201019_Plate 6/#2532057972_ZProj_Max\\../csvs\n",
      "Directory already exists: L:/Cytation data/Stowers_Cytation/Pranav/Testing DRACS reporters/250415_201019_Plate 6/#2532057972_ZProj_Max\\../projections\n",
      "Directory already exists: L:/Cytation data/Stowers_Cytation/Pranav/Testing DRACS reporters/250415_201019_Plate 6/#2532057972_ZProj_Max\\../segmentations\n",
      "Directory already exists: L:/Cytation data/Stowers_Cytation/Pranav/Testing DRACS reporters/250415_201019_Plate 6/#2532057972_ZProj_Max\\../cleared\n",
      "get_well done\n"
     ]
    },
    {
     "name": "stderr",
     "output_type": "stream",
     "text": [
      "100%|██████████████████████████████████████████████████████████████████████████████████| 64/64 [01:03<00:00,  1.01it/s]\n"
     ]
    },
    {
     "name": "stdout",
     "output_type": "stream",
     "text": [
      "register_images done\n"
     ]
    },
    {
     "name": "stderr",
     "output_type": "stream",
     "text": [
      "U:\\smc\\public\\am2800\\ColonyProcessing\\well_processor.py:600: RuntimeWarning: divide by zero encountered in divide\n",
      "  combined = np.stack([self.tritc_cleared, self.yfp_cleared, self.yfp_cleared/self.tritc_cleared], axis=1)\n",
      "U:\\smc\\public\\am2800\\ColonyProcessing\\well_processor.py:600: RuntimeWarning: invalid value encountered in divide\n",
      "  combined = np.stack([self.tritc_cleared, self.yfp_cleared, self.yfp_cleared/self.tritc_cleared], axis=1)\n",
      "U:\\smc\\public\\am2800\\ColonyProcessing\\well_processor.py:603: FutureWarning: The plugin infrastructure in `skimage.io` is deprecated since version 0.25 and will be removed in 0.27 (or later). To avoid this warning, please do not pass additional keyword arguments for plugins (`**plugin_args`). Instead, use `imageio` or other I/O packages directly. See also `skimage.io.imsave`.\n",
      "  io.imsave(\n",
      "U:\\smc\\public\\am2800\\ColonyProcessing\\well_processor.py:620: RuntimeWarning: divide by zero encountered in divide\n",
      "  ratio_img = self.yfp_cleared / self.tritc_cleared\n",
      "U:\\smc\\public\\am2800\\ColonyProcessing\\well_processor.py:620: RuntimeWarning: invalid value encountered in divide\n",
      "  ratio_img = self.yfp_cleared / self.tritc_cleared\n",
      "U:\\smc\\public\\am2800\\ColonyProcessing\\well_processor.py:650: RuntimeWarning: divide by zero encountered in divide\n",
      "  combined = np.stack([self.tritc_cleared, self.yfp_cleared, self.yfp_cleared/self.tritc_cleared], axis=1)\n",
      "U:\\smc\\public\\am2800\\ColonyProcessing\\well_processor.py:650: RuntimeWarning: invalid value encountered in divide\n",
      "  combined = np.stack([self.tritc_cleared, self.yfp_cleared, self.yfp_cleared/self.tritc_cleared], axis=1)\n",
      "U:\\smc\\public\\am2800\\ColonyProcessing\\well_processor.py:654: FutureWarning: The plugin infrastructure in `skimage.io` is deprecated since version 0.25 and will be removed in 0.27 (or later). To avoid this warning, please do not pass additional keyword arguments for plugins (`**plugin_args`). Instead, use `imageio` or other I/O packages directly. See also `skimage.io.imsave`.\n",
      "  io.imsave(\n"
     ]
    },
    {
     "name": "stdout",
     "output_type": "stream",
     "text": [
      "get_masks done\n"
     ]
    },
    {
     "name": "stderr",
     "output_type": "stream",
     "text": [
      "U:\\smc\\public\\am2800\\ColonyProcessing\\well_processor.py:867: FutureWarning: The plugin infrastructure in `skimage.io` is deprecated since version 0.25 and will be removed in 0.27 (or later). To avoid this warning, please do not pass additional keyword arguments for plugins (`**plugin_args`). Instead, use `imageio` or other I/O packages directly. See also `skimage.io.imsave`.\n",
      "  io.imsave(\n",
      "U:\\smc\\public\\am2800\\ColonyProcessing\\well_processor.py:885: FutureWarning: The plugin infrastructure in `skimage.io` is deprecated since version 0.25 and will be removed in 0.27 (or later). To avoid this warning, please do not pass additional keyword arguments for plugins (`**plugin_args`). Instead, use `imageio` or other I/O packages directly. See also `skimage.io.imsave`.\n",
      "  io.imsave(\n"
     ]
    },
    {
     "name": "stdout",
     "output_type": "stream",
     "text": [
      "make_projections done\n",
      "get_center_and_radius_stack done\n",
      "get_kymographs done\n",
      "get_ratio_df done\n",
      "L:/Cytation data/Stowers_Cytation/Pranav/Testing DRACS reporters/250415_201019_Plate 6/#2532057972_ZProj_Max\\../projections\n"
     ]
    }
   ],
   "source": [
    "for root_directory in list_of_directories:\n",
    "    well_list = pd.DataFrame({'fname':glob.glob(root_directory + '/*.tif')}).sort_values(by='fname')\n",
    "    well_list['well'] = well_list['fname'].str.split('\\\\').str[-1].str.split('_').str[0]\n",
    "\n",
    "\n",
    "    well_list = well_list['well'].unique()\n",
    "\n",
    "\n",
    "    for well in well_list:\n",
    "        processor = WellProcessor(well, root_directory, time_clip=2)\n",
    "        processor.process_well()\n",
    "\n",
    "    merge_montages(processor.montage_dir)\n"
   ]
  },
  {
   "cell_type": "code",
   "execution_count": null,
   "metadata": {},
   "outputs": [],
   "source": []
  },
  {
   "cell_type": "code",
   "execution_count": null,
   "metadata": {},
   "outputs": [],
   "source": []
  },
  {
   "cell_type": "code",
   "execution_count": null,
   "metadata": {},
   "outputs": [],
   "source": []
  }
 ],
 "metadata": {
  "kernelspec": {
   "display_name": "Python 3 (ipykernel)",
   "language": "python",
   "name": "python3"
  },
  "language_info": {
   "codemirror_mode": {
    "name": "ipython",
    "version": 3
   },
   "file_extension": ".py",
   "mimetype": "text/x-python",
   "name": "python",
   "nbconvert_exporter": "python",
   "pygments_lexer": "ipython3",
   "version": "3.12.8"
  }
 },
 "nbformat": 4,
 "nbformat_minor": 4
}
