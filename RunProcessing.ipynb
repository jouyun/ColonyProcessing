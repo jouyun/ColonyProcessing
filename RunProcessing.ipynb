{
 "cells": [
  {
   "cell_type": "code",
   "execution_count": 3,
   "metadata": {},
   "outputs": [
    {
     "name": "stdout",
     "output_type": "stream",
     "text": [
      "The autoreload extension is already loaded. To reload it, use:\n",
      "  %reload_ext autoreload\n"
     ]
    }
   ],
   "source": [
    "%load_ext autoreload\n",
    "%autoreload 2\n",
    "import pandas as pd\n",
    "import glob\n",
    "from well_processor import WellProcessor \n",
    "from montages import merge_montages, make_montages\n"
   ]
  },
  {
   "cell_type": "markdown",
   "metadata": {},
   "source": [
    "# Put your list of directories to process here"
   ]
  },
  {
   "cell_type": "markdown",
   "metadata": {},
   "source": [
    "1.  Make sure you use '/' as the file separator\n",
    "2.  Make sure you are using windows file paths (S:/micro/etc) and not macOS or linux\n",
    "3.  Make sure all directories are encased in single quotes, separate multiple directories with a comma"
   ]
  },
  {
   "cell_type": "code",
   "execution_count": 4,
   "metadata": {},
   "outputs": [],
   "source": [
    "list_of_directories = [ 'S:/micro/am2800/pt2843/smc/20250604/plate 3/',\n",
    "                      ]"
   ]
  },
  {
   "cell_type": "markdown",
   "metadata": {},
   "source": [
    "Things to do:\n",
    "\n",
    "Add derivative\n",
    "Add dictionary for specifying ranges on montages."
   ]
  },
  {
   "cell_type": "markdown",
   "metadata": {},
   "source": [
    "# Then run this code"
   ]
  },
  {
   "cell_type": "code",
   "execution_count": 5,
   "metadata": {
    "scrolled": true
   },
   "outputs": [
    {
     "name": "stdout",
     "output_type": "stream",
     "text": [
      "Created directory: S:/micro/am2800/pt2843/smc/20250604/plate 3/../montages\n",
      "Created directory: S:/micro/am2800/pt2843/smc/20250604/plate 3/../csvs\n",
      "Created directory: S:/micro/am2800/pt2843/smc/20250604/plate 3/../projections\n",
      "Created directory: S:/micro/am2800/pt2843/smc/20250604/plate 3/../segmentations\n",
      "Created directory: S:/micro/am2800/pt2843/smc/20250604/plate 3/../cleared\n",
      "get_well done\n"
     ]
    },
    {
     "name": "stderr",
     "output_type": "stream",
     "text": [
      "100%|██████████| 87/87 [03:11<00:00,  2.20s/it]\n"
     ]
    },
    {
     "name": "stdout",
     "output_type": "stream",
     "text": [
      "register_images done\n"
     ]
    },
    {
     "name": "stderr",
     "output_type": "stream",
     "text": [
      "u:\\smc\\public\\am2800\\ColonyProcessing\\well_processor.py:265: RuntimeWarning: invalid value encountered in divide\n",
      "  combined = np.stack([self.tritc_cleared, self.yfp_cleared, self.yfp_cleared/self.tritc_cleared], axis=1)\n",
      "u:\\smc\\public\\am2800\\ColonyProcessing\\well_processor.py:268: FutureWarning: The plugin infrastructure in `skimage.io` is deprecated since version 0.25 and will be removed in 0.27 (or later). To avoid this warning, please do not pass additional keyword arguments for plugins (`**plugin_args`). Instead, use `imageio` or other I/O packages directly. See also `skimage.io.imsave`.\n",
      "  io.imsave(\n",
      "u:\\smc\\public\\am2800\\ColonyProcessing\\well_processor.py:285: RuntimeWarning: invalid value encountered in divide\n",
      "  ratio_img = self.yfp_cleared / self.tritc_cleared\n"
     ]
    },
    {
     "name": "stdout",
     "output_type": "stream",
     "text": [
      "get_masks done\n"
     ]
    },
    {
     "name": "stderr",
     "output_type": "stream",
     "text": [
      "u:\\smc\\public\\am2800\\ColonyProcessing\\well_processor.py:520: FutureWarning: The plugin infrastructure in `skimage.io` is deprecated since version 0.25 and will be removed in 0.27 (or later). To avoid this warning, please do not pass additional keyword arguments for plugins (`**plugin_args`). Instead, use `imageio` or other I/O packages directly. See also `skimage.io.imsave`.\n",
      "  io.imsave(\n",
      "u:\\smc\\public\\am2800\\ColonyProcessing\\well_processor.py:538: FutureWarning: The plugin infrastructure in `skimage.io` is deprecated since version 0.25 and will be removed in 0.27 (or later). To avoid this warning, please do not pass additional keyword arguments for plugins (`**plugin_args`). Instead, use `imageio` or other I/O packages directly. See also `skimage.io.imsave`.\n",
      "  io.imsave(\n"
     ]
    },
    {
     "name": "stdout",
     "output_type": "stream",
     "text": [
      "make_projections done\n",
      "get_center_and_radius_stack done\n",
      "get_kymographs done\n",
      "get_ratio_df done\n",
      "S:/micro/am2800/pt2843/smc/20250604/plate 3/../projections\n",
      "Directory already exists: S:/micro/am2800/pt2843/smc/20250604/plate 3/../montages\n",
      "Directory already exists: S:/micro/am2800/pt2843/smc/20250604/plate 3/../csvs\n",
      "Directory already exists: S:/micro/am2800/pt2843/smc/20250604/plate 3/../projections\n",
      "Directory already exists: S:/micro/am2800/pt2843/smc/20250604/plate 3/../segmentations\n",
      "Directory already exists: S:/micro/am2800/pt2843/smc/20250604/plate 3/../cleared\n",
      "get_well done\n"
     ]
    },
    {
     "name": "stderr",
     "output_type": "stream",
     "text": [
      "c:\\Users\\smc\\AppData\\Local\\miniforge3\\envs\\napari2\\Lib\\site-packages\\pystackreg\\pystackreg.py:328: UserWarning: Detected axis 2 as the possible time axis for the stack due to its low variability, but axis 0 was supplied for registration. Are you sure you supplied the correct axis?\n",
      "  warnings.warn(\n",
      "100%|██████████| 87/87 [03:08<00:00,  2.17s/it]\n"
     ]
    },
    {
     "name": "stdout",
     "output_type": "stream",
     "text": [
      "register_images done\n"
     ]
    },
    {
     "name": "stderr",
     "output_type": "stream",
     "text": [
      "u:\\smc\\public\\am2800\\ColonyProcessing\\well_processor.py:265: RuntimeWarning: invalid value encountered in divide\n",
      "  combined = np.stack([self.tritc_cleared, self.yfp_cleared, self.yfp_cleared/self.tritc_cleared], axis=1)\n",
      "u:\\smc\\public\\am2800\\ColonyProcessing\\well_processor.py:268: FutureWarning: The plugin infrastructure in `skimage.io` is deprecated since version 0.25 and will be removed in 0.27 (or later). To avoid this warning, please do not pass additional keyword arguments for plugins (`**plugin_args`). Instead, use `imageio` or other I/O packages directly. See also `skimage.io.imsave`.\n",
      "  io.imsave(\n",
      "u:\\smc\\public\\am2800\\ColonyProcessing\\well_processor.py:285: RuntimeWarning: invalid value encountered in divide\n",
      "  ratio_img = self.yfp_cleared / self.tritc_cleared\n"
     ]
    },
    {
     "name": "stdout",
     "output_type": "stream",
     "text": [
      "get_masks done\n"
     ]
    },
    {
     "name": "stderr",
     "output_type": "stream",
     "text": [
      "u:\\smc\\public\\am2800\\ColonyProcessing\\well_processor.py:520: FutureWarning: The plugin infrastructure in `skimage.io` is deprecated since version 0.25 and will be removed in 0.27 (or later). To avoid this warning, please do not pass additional keyword arguments for plugins (`**plugin_args`). Instead, use `imageio` or other I/O packages directly. See also `skimage.io.imsave`.\n",
      "  io.imsave(\n",
      "u:\\smc\\public\\am2800\\ColonyProcessing\\well_processor.py:538: FutureWarning: The plugin infrastructure in `skimage.io` is deprecated since version 0.25 and will be removed in 0.27 (or later). To avoid this warning, please do not pass additional keyword arguments for plugins (`**plugin_args`). Instead, use `imageio` or other I/O packages directly. See also `skimage.io.imsave`.\n",
      "  io.imsave(\n"
     ]
    },
    {
     "name": "stdout",
     "output_type": "stream",
     "text": [
      "make_projections done\n",
      "get_center_and_radius_stack done\n",
      "get_kymographs done\n",
      "get_ratio_df done\n",
      "S:/micro/am2800/pt2843/smc/20250604/plate 3/../projections\n",
      "Directory already exists: S:/micro/am2800/pt2843/smc/20250604/plate 3/../montages\n",
      "Directory already exists: S:/micro/am2800/pt2843/smc/20250604/plate 3/../csvs\n",
      "Directory already exists: S:/micro/am2800/pt2843/smc/20250604/plate 3/../projections\n",
      "Directory already exists: S:/micro/am2800/pt2843/smc/20250604/plate 3/../segmentations\n",
      "Directory already exists: S:/micro/am2800/pt2843/smc/20250604/plate 3/../cleared\n",
      "get_well done\n"
     ]
    },
    {
     "name": "stderr",
     "output_type": "stream",
     "text": [
      "c:\\Users\\smc\\AppData\\Local\\miniforge3\\envs\\napari2\\Lib\\site-packages\\pystackreg\\pystackreg.py:328: UserWarning: Detected axis 2 as the possible time axis for the stack due to its low variability, but axis 0 was supplied for registration. Are you sure you supplied the correct axis?\n",
      "  warnings.warn(\n",
      "100%|██████████| 87/87 [02:57<00:00,  2.04s/it]\n"
     ]
    },
    {
     "name": "stdout",
     "output_type": "stream",
     "text": [
      "register_images done\n"
     ]
    },
    {
     "name": "stderr",
     "output_type": "stream",
     "text": [
      "u:\\smc\\public\\am2800\\ColonyProcessing\\well_processor.py:265: RuntimeWarning: invalid value encountered in divide\n",
      "  combined = np.stack([self.tritc_cleared, self.yfp_cleared, self.yfp_cleared/self.tritc_cleared], axis=1)\n",
      "u:\\smc\\public\\am2800\\ColonyProcessing\\well_processor.py:268: FutureWarning: The plugin infrastructure in `skimage.io` is deprecated since version 0.25 and will be removed in 0.27 (or later). To avoid this warning, please do not pass additional keyword arguments for plugins (`**plugin_args`). Instead, use `imageio` or other I/O packages directly. See also `skimage.io.imsave`.\n",
      "  io.imsave(\n",
      "u:\\smc\\public\\am2800\\ColonyProcessing\\well_processor.py:285: RuntimeWarning: invalid value encountered in divide\n",
      "  ratio_img = self.yfp_cleared / self.tritc_cleared\n"
     ]
    },
    {
     "name": "stdout",
     "output_type": "stream",
     "text": [
      "get_masks done\n"
     ]
    },
    {
     "name": "stderr",
     "output_type": "stream",
     "text": [
      "u:\\smc\\public\\am2800\\ColonyProcessing\\well_processor.py:520: FutureWarning: The plugin infrastructure in `skimage.io` is deprecated since version 0.25 and will be removed in 0.27 (or later). To avoid this warning, please do not pass additional keyword arguments for plugins (`**plugin_args`). Instead, use `imageio` or other I/O packages directly. See also `skimage.io.imsave`.\n",
      "  io.imsave(\n",
      "u:\\smc\\public\\am2800\\ColonyProcessing\\well_processor.py:538: FutureWarning: The plugin infrastructure in `skimage.io` is deprecated since version 0.25 and will be removed in 0.27 (or later). To avoid this warning, please do not pass additional keyword arguments for plugins (`**plugin_args`). Instead, use `imageio` or other I/O packages directly. See also `skimage.io.imsave`.\n",
      "  io.imsave(\n"
     ]
    },
    {
     "name": "stdout",
     "output_type": "stream",
     "text": [
      "make_projections done\n",
      "get_center_and_radius_stack done\n",
      "get_kymographs done\n",
      "get_ratio_df done\n",
      "S:/micro/am2800/pt2843/smc/20250604/plate 3/../projections\n",
      "24\n"
     ]
    }
   ],
   "source": [
    "for root_directory in list_of_directories:\n",
    "    well_list = pd.DataFrame({'fname':glob.glob(root_directory + '/*.tif')}).sort_values(by='fname')\n",
    "    well_list['well'] = well_list['fname'].str.split('\\\\').str[-1].str.split('_').str[0]\n",
    "\n",
    "\n",
    "    well_list = well_list['well'].unique()\n",
    "\n",
    "    processor = None\n",
    "    for well in well_list:\n",
    "        processor = WellProcessor(well, root_directory, time_clip=2)\n",
    "        processor.process_well() # This will skip running if it sees something in the 'cleared' directory\n",
    "        \n",
    "    if processor is not None:\n",
    "        make_montages(processor.csv_dir+'/', processor.montage_dir+'/', processor.resolution, maxz=[40000,40000,1], dmaxz=[20000,5000,1]) # Maxz/dmaxz are in TRITC/YFP/Ratio order\n",
    "        merge_montages(processor.montage_dir)\n"
   ]
  },
  {
   "cell_type": "code",
   "execution_count": null,
   "metadata": {},
   "outputs": [],
   "source": []
  }
 ],
 "metadata": {
  "kernelspec": {
   "display_name": "napari2",
   "language": "python",
   "name": "python3"
  },
  "language_info": {
   "codemirror_mode": {
    "name": "ipython",
    "version": 3
   },
   "file_extension": ".py",
   "mimetype": "text/x-python",
   "name": "python",
   "nbconvert_exporter": "python",
   "pygments_lexer": "ipython3",
   "version": "3.12.11"
  }
 },
 "nbformat": 4,
 "nbformat_minor": 4
}
