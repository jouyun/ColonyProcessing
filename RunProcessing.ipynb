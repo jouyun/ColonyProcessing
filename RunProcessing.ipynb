{
 "cells": [
  {
   "cell_type": "code",
   "execution_count": 1,
   "metadata": {},
   "outputs": [],
   "source": [
    "%load_ext autoreload\n",
    "%autoreload 2\n",
    "import pandas as pd\n",
    "import glob\n",
    "from well_processor import WellProcessor \n",
    "from montages import create_montage, merge_montages, make_montages\n",
    "import dask\n"
   ]
  },
  {
   "cell_type": "markdown",
   "metadata": {},
   "source": [
    "# Put your list of directories to process here"
   ]
  },
  {
   "cell_type": "markdown",
   "metadata": {},
   "source": [
    "1.  Make sure you use '/' as the file separator\n",
    "2.  Make sure you are using windows file paths (S:/micro/etc) and not macOS or linux\n",
    "3.  Make sure all directories are encased in single quotes, separate multiple directories with a comma"
   ]
  },
  {
   "cell_type": "code",
   "execution_count": 2,
   "metadata": {},
   "outputs": [],
   "source": [
    "list_of_directories = [ 'S:/micro/am2800/pt2843/smc/20250512/test/Test/#2532057972_ZProj_Max/']"
   ]
  },
  {
   "cell_type": "markdown",
   "metadata": {},
   "source": [
    "Things to do:\n",
    "\n",
    "Add derivative\n",
    "Add dictionary for specifying ranges on montages."
   ]
  },
  {
   "cell_type": "markdown",
   "metadata": {},
   "source": [
    "# Then run this code"
   ]
  },
  {
   "cell_type": "code",
   "execution_count": 59,
   "metadata": {
    "scrolled": true
   },
   "outputs": [
    {
     "name": "stdout",
     "output_type": "stream",
     "text": [
      "Directory already exists: S:/micro/am2800/pt2843/smc/20250512/test/Test/#2532057972_ZProj_Max/../montages\n",
      "Directory already exists: S:/micro/am2800/pt2843/smc/20250512/test/Test/#2532057972_ZProj_Max/../csvs\n",
      "Directory already exists: S:/micro/am2800/pt2843/smc/20250512/test/Test/#2532057972_ZProj_Max/../projections\n",
      "Directory already exists: S:/micro/am2800/pt2843/smc/20250512/test/Test/#2532057972_ZProj_Max/../segmentations\n",
      "Directory already exists: S:/micro/am2800/pt2843/smc/20250512/test/Test/#2532057972_ZProj_Max/../cleared\n",
      "Cleared directory already contains files for B2.\n",
      "8\n"
     ]
    }
   ],
   "source": [
    "for root_directory in list_of_directories:\n",
    "    well_list = pd.DataFrame({'fname':glob.glob(root_directory + '/*.tif')}).sort_values(by='fname')\n",
    "    well_list['well'] = well_list['fname'].str.split('\\\\').str[-1].str.split('_').str[0]\n",
    "\n",
    "\n",
    "    well_list = well_list['well'].unique()\n",
    "\n",
    "    processor = None\n",
    "    for well in well_list:\n",
    "        processor = WellProcessor(well, root_directory, time_clip=2)\n",
    "        processor.process_well() # This will skip running if it sees something in the 'cleared' directory\n",
    "        \n",
    "    if processor is not None:\n",
    "        make_montages(processor.csv_dir+'/', processor.montage_dir+'/', processor.resolution, maxz=[40000,40000,1], dmaxz=[20000,5000,1]) # Maxz/dmaxz are in TRITC/YFP/Ratio order\n",
    "        merge_montages(processor.montage_dir)\n"
   ]
  },
  {
   "cell_type": "code",
   "execution_count": null,
   "metadata": {},
   "outputs": [],
   "source": []
  }
 ],
 "metadata": {
  "kernelspec": {
   "display_name": "napari",
   "language": "python",
   "name": "python3"
  },
  "language_info": {
   "codemirror_mode": {
    "name": "ipython",
    "version": 3
   },
   "file_extension": ".py",
   "mimetype": "text/x-python",
   "name": "python",
   "nbconvert_exporter": "python",
   "pygments_lexer": "ipython3",
   "version": "3.10.13"
  }
 },
 "nbformat": 4,
 "nbformat_minor": 4
}
