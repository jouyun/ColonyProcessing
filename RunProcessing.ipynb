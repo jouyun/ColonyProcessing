{
 "cells": [
  {
   "cell_type": "code",
   "execution_count": 1,
   "metadata": {},
   "outputs": [],
   "source": [
    "%load_ext autoreload\n",
    "%autoreload 2\n",
    "import pandas as pd\n",
    "import glob\n",
    "from well_processor import WellProcessor \n",
    "from funcs import create_montage, merge_montages\n"
   ]
  },
  {
   "cell_type": "markdown",
   "metadata": {},
   "source": [
    "# Put your list of directories to process here"
   ]
  },
  {
   "cell_type": "markdown",
   "metadata": {},
   "source": [
    "1.  Make sure you use '/' as the file separator\n",
    "2.  Make sure you are using windows file paths (S:/micro/etc) and not macOS or linux\n",
    "3.  Make sure all directories are encased in single quotes, separate multiple directories with a comma"
   ]
  },
  {
   "cell_type": "code",
   "execution_count": 2,
   "metadata": {},
   "outputs": [],
   "source": [
    "list_of_directories = [ 'S:/micro/am2800/pt2843/smc/20250512/Plate 1derkymo/ZProj_Max']"
   ]
  },
  {
   "cell_type": "markdown",
   "metadata": {},
   "source": [
    "# Then run this code"
   ]
  },
  {
   "cell_type": "code",
   "execution_count": 3,
   "metadata": {
    "scrolled": true
   },
   "outputs": [
    {
     "name": "stdout",
     "output_type": "stream",
     "text": [
      "Directory already exists: S:/micro/am2800/pt2843/smc/20250512/Plate 1derkymo/ZProj_Max\\../montages\n",
      "Directory already exists: S:/micro/am2800/pt2843/smc/20250512/Plate 1derkymo/ZProj_Max\\../csvs\n",
      "Directory already exists: S:/micro/am2800/pt2843/smc/20250512/Plate 1derkymo/ZProj_Max\\../projections\n",
      "Directory already exists: S:/micro/am2800/pt2843/smc/20250512/Plate 1derkymo/ZProj_Max\\../segmentations\n",
      "Directory already exists: S:/micro/am2800/pt2843/smc/20250512/Plate 1derkymo/ZProj_Max\\../cleared\n",
      "Created directory: S:/micro/am2800/pt2843/smc/20250512/Plate 1derkymo/ZProj_Max\\../derivatives\n",
      "Created directory: S:/micro/am2800/pt2843/smc/20250512/Plate 1derkymo/ZProj_Max\\../derivative_csvs\n",
      "Created directory: S:/micro/am2800/pt2843/smc/20250512/Plate 1derkymo/ZProj_Max\\../derivative_kymographs\n",
      "get_well done\n"
     ]
    },
    {
     "name": "stderr",
     "output_type": "stream",
     "text": [
      "100%|██████████| 48/48 [01:41<00:00,  2.12s/it]\n"
     ]
    },
    {
     "name": "stdout",
     "output_type": "stream",
     "text": [
      "register_images done\n"
     ]
    },
    {
     "name": "stderr",
     "output_type": "stream",
     "text": [
      "u:\\smc\\public\\am2800\\ColonyProcessing\\well_processor.py:265: RuntimeWarning: divide by zero encountered in divide\n",
      "  combined = np.stack([self.tritc_cleared, self.yfp_cleared, self.yfp_cleared/self.tritc_cleared], axis=1)\n",
      "u:\\smc\\public\\am2800\\ColonyProcessing\\well_processor.py:265: RuntimeWarning: invalid value encountered in divide\n",
      "  combined = np.stack([self.tritc_cleared, self.yfp_cleared, self.yfp_cleared/self.tritc_cleared], axis=1)\n",
      "u:\\smc\\public\\am2800\\ColonyProcessing\\well_processor.py:285: RuntimeWarning: divide by zero encountered in divide\n",
      "  ratio_img = self.yfp_cleared / self.tritc_cleared\n",
      "u:\\smc\\public\\am2800\\ColonyProcessing\\well_processor.py:285: RuntimeWarning: invalid value encountered in divide\n",
      "  ratio_img = self.yfp_cleared / self.tritc_cleared\n",
      "u:\\smc\\public\\am2800\\ColonyProcessing\\well_processor.py:315: RuntimeWarning: divide by zero encountered in divide\n",
      "  combined = np.stack([self.tritc_cleared, self.yfp_cleared, self.yfp_cleared/self.tritc_cleared], axis=1)\n",
      "u:\\smc\\public\\am2800\\ColonyProcessing\\well_processor.py:315: RuntimeWarning: invalid value encountered in divide\n",
      "  combined = np.stack([self.tritc_cleared, self.yfp_cleared, self.yfp_cleared/self.tritc_cleared], axis=1)\n"
     ]
    },
    {
     "name": "stdout",
     "output_type": "stream",
     "text": [
      "get_masks done\n",
      "make_projections done\n",
      "get_center_and_radius_stack done\n",
      "get_kymographs done\n",
      "get_derivative_kymographs done\n",
      "get_ratio_df done\n",
      "S:/micro/am2800/pt2843/smc/20250512/Plate 1derkymo/ZProj_Max\\../projections\n",
      "Directory already exists: S:/micro/am2800/pt2843/smc/20250512/Plate 1derkymo/ZProj_Max\\../montages\n",
      "Directory already exists: S:/micro/am2800/pt2843/smc/20250512/Plate 1derkymo/ZProj_Max\\../csvs\n",
      "Directory already exists: S:/micro/am2800/pt2843/smc/20250512/Plate 1derkymo/ZProj_Max\\../projections\n",
      "Directory already exists: S:/micro/am2800/pt2843/smc/20250512/Plate 1derkymo/ZProj_Max\\../segmentations\n",
      "Directory already exists: S:/micro/am2800/pt2843/smc/20250512/Plate 1derkymo/ZProj_Max\\../cleared\n",
      "Directory already exists: S:/micro/am2800/pt2843/smc/20250512/Plate 1derkymo/ZProj_Max\\../derivatives\n",
      "Directory already exists: S:/micro/am2800/pt2843/smc/20250512/Plate 1derkymo/ZProj_Max\\../derivative_csvs\n",
      "Directory already exists: S:/micro/am2800/pt2843/smc/20250512/Plate 1derkymo/ZProj_Max\\../derivative_kymographs\n",
      "get_well done\n"
     ]
    },
    {
     "name": "stderr",
     "output_type": "stream",
     "text": [
      "100%|██████████| 48/48 [01:45<00:00,  2.19s/it]\n"
     ]
    },
    {
     "name": "stdout",
     "output_type": "stream",
     "text": [
      "register_images done\n"
     ]
    },
    {
     "name": "stderr",
     "output_type": "stream",
     "text": [
      "u:\\smc\\public\\am2800\\ColonyProcessing\\well_processor.py:265: RuntimeWarning: divide by zero encountered in divide\n",
      "  combined = np.stack([self.tritc_cleared, self.yfp_cleared, self.yfp_cleared/self.tritc_cleared], axis=1)\n",
      "u:\\smc\\public\\am2800\\ColonyProcessing\\well_processor.py:265: RuntimeWarning: invalid value encountered in divide\n",
      "  combined = np.stack([self.tritc_cleared, self.yfp_cleared, self.yfp_cleared/self.tritc_cleared], axis=1)\n",
      "u:\\smc\\public\\am2800\\ColonyProcessing\\well_processor.py:285: RuntimeWarning: divide by zero encountered in divide\n",
      "  ratio_img = self.yfp_cleared / self.tritc_cleared\n",
      "u:\\smc\\public\\am2800\\ColonyProcessing\\well_processor.py:285: RuntimeWarning: invalid value encountered in divide\n",
      "  ratio_img = self.yfp_cleared / self.tritc_cleared\n",
      "u:\\smc\\public\\am2800\\ColonyProcessing\\well_processor.py:315: RuntimeWarning: divide by zero encountered in divide\n",
      "  combined = np.stack([self.tritc_cleared, self.yfp_cleared, self.yfp_cleared/self.tritc_cleared], axis=1)\n",
      "u:\\smc\\public\\am2800\\ColonyProcessing\\well_processor.py:315: RuntimeWarning: invalid value encountered in divide\n",
      "  combined = np.stack([self.tritc_cleared, self.yfp_cleared, self.yfp_cleared/self.tritc_cleared], axis=1)\n"
     ]
    },
    {
     "name": "stdout",
     "output_type": "stream",
     "text": [
      "get_masks done\n",
      "make_projections done\n",
      "get_center_and_radius_stack done\n",
      "get_kymographs done\n",
      "get_derivative_kymographs done\n",
      "get_ratio_df done\n",
      "S:/micro/am2800/pt2843/smc/20250512/Plate 1derkymo/ZProj_Max\\../projections\n",
      "Directory already exists: S:/micro/am2800/pt2843/smc/20250512/Plate 1derkymo/ZProj_Max\\../montages\n",
      "Directory already exists: S:/micro/am2800/pt2843/smc/20250512/Plate 1derkymo/ZProj_Max\\../csvs\n",
      "Directory already exists: S:/micro/am2800/pt2843/smc/20250512/Plate 1derkymo/ZProj_Max\\../projections\n",
      "Directory already exists: S:/micro/am2800/pt2843/smc/20250512/Plate 1derkymo/ZProj_Max\\../segmentations\n",
      "Directory already exists: S:/micro/am2800/pt2843/smc/20250512/Plate 1derkymo/ZProj_Max\\../cleared\n",
      "Directory already exists: S:/micro/am2800/pt2843/smc/20250512/Plate 1derkymo/ZProj_Max\\../derivatives\n",
      "Directory already exists: S:/micro/am2800/pt2843/smc/20250512/Plate 1derkymo/ZProj_Max\\../derivative_csvs\n",
      "Directory already exists: S:/micro/am2800/pt2843/smc/20250512/Plate 1derkymo/ZProj_Max\\../derivative_kymographs\n",
      "get_well done\n"
     ]
    },
    {
     "name": "stderr",
     "output_type": "stream",
     "text": [
      "100%|██████████| 48/48 [01:49<00:00,  2.29s/it]\n"
     ]
    },
    {
     "name": "stdout",
     "output_type": "stream",
     "text": [
      "register_images done\n"
     ]
    },
    {
     "name": "stderr",
     "output_type": "stream",
     "text": [
      "u:\\smc\\public\\am2800\\ColonyProcessing\\well_processor.py:265: RuntimeWarning: divide by zero encountered in divide\n",
      "  combined = np.stack([self.tritc_cleared, self.yfp_cleared, self.yfp_cleared/self.tritc_cleared], axis=1)\n",
      "u:\\smc\\public\\am2800\\ColonyProcessing\\well_processor.py:265: RuntimeWarning: invalid value encountered in divide\n",
      "  combined = np.stack([self.tritc_cleared, self.yfp_cleared, self.yfp_cleared/self.tritc_cleared], axis=1)\n",
      "u:\\smc\\public\\am2800\\ColonyProcessing\\well_processor.py:285: RuntimeWarning: divide by zero encountered in divide\n",
      "  ratio_img = self.yfp_cleared / self.tritc_cleared\n",
      "u:\\smc\\public\\am2800\\ColonyProcessing\\well_processor.py:285: RuntimeWarning: invalid value encountered in divide\n",
      "  ratio_img = self.yfp_cleared / self.tritc_cleared\n",
      "u:\\smc\\public\\am2800\\ColonyProcessing\\well_processor.py:315: RuntimeWarning: divide by zero encountered in divide\n",
      "  combined = np.stack([self.tritc_cleared, self.yfp_cleared, self.yfp_cleared/self.tritc_cleared], axis=1)\n",
      "u:\\smc\\public\\am2800\\ColonyProcessing\\well_processor.py:315: RuntimeWarning: invalid value encountered in divide\n",
      "  combined = np.stack([self.tritc_cleared, self.yfp_cleared, self.yfp_cleared/self.tritc_cleared], axis=1)\n"
     ]
    },
    {
     "name": "stdout",
     "output_type": "stream",
     "text": [
      "get_masks done\n",
      "make_projections done\n",
      "get_center_and_radius_stack done\n",
      "get_kymographs done\n",
      "get_derivative_kymographs done\n",
      "get_ratio_df done\n",
      "S:/micro/am2800/pt2843/smc/20250512/Plate 1derkymo/ZProj_Max\\../projections\n",
      "Directory already exists: S:/micro/am2800/pt2843/smc/20250512/Plate 1derkymo/ZProj_Max\\../montages\n",
      "Directory already exists: S:/micro/am2800/pt2843/smc/20250512/Plate 1derkymo/ZProj_Max\\../csvs\n",
      "Directory already exists: S:/micro/am2800/pt2843/smc/20250512/Plate 1derkymo/ZProj_Max\\../projections\n",
      "Directory already exists: S:/micro/am2800/pt2843/smc/20250512/Plate 1derkymo/ZProj_Max\\../segmentations\n",
      "Directory already exists: S:/micro/am2800/pt2843/smc/20250512/Plate 1derkymo/ZProj_Max\\../cleared\n",
      "Directory already exists: S:/micro/am2800/pt2843/smc/20250512/Plate 1derkymo/ZProj_Max\\../derivatives\n",
      "Directory already exists: S:/micro/am2800/pt2843/smc/20250512/Plate 1derkymo/ZProj_Max\\../derivative_csvs\n",
      "Directory already exists: S:/micro/am2800/pt2843/smc/20250512/Plate 1derkymo/ZProj_Max\\../derivative_kymographs\n",
      "get_well done\n"
     ]
    },
    {
     "name": "stderr",
     "output_type": "stream",
     "text": [
      "100%|██████████| 48/48 [01:49<00:00,  2.29s/it]\n"
     ]
    },
    {
     "name": "stdout",
     "output_type": "stream",
     "text": [
      "register_images done\n"
     ]
    },
    {
     "name": "stderr",
     "output_type": "stream",
     "text": [
      "u:\\smc\\public\\am2800\\ColonyProcessing\\well_processor.py:265: RuntimeWarning: divide by zero encountered in divide\n",
      "  combined = np.stack([self.tritc_cleared, self.yfp_cleared, self.yfp_cleared/self.tritc_cleared], axis=1)\n",
      "u:\\smc\\public\\am2800\\ColonyProcessing\\well_processor.py:265: RuntimeWarning: invalid value encountered in divide\n",
      "  combined = np.stack([self.tritc_cleared, self.yfp_cleared, self.yfp_cleared/self.tritc_cleared], axis=1)\n",
      "u:\\smc\\public\\am2800\\ColonyProcessing\\well_processor.py:285: RuntimeWarning: divide by zero encountered in divide\n",
      "  ratio_img = self.yfp_cleared / self.tritc_cleared\n",
      "u:\\smc\\public\\am2800\\ColonyProcessing\\well_processor.py:285: RuntimeWarning: invalid value encountered in divide\n",
      "  ratio_img = self.yfp_cleared / self.tritc_cleared\n",
      "u:\\smc\\public\\am2800\\ColonyProcessing\\well_processor.py:315: RuntimeWarning: divide by zero encountered in divide\n",
      "  combined = np.stack([self.tritc_cleared, self.yfp_cleared, self.yfp_cleared/self.tritc_cleared], axis=1)\n",
      "u:\\smc\\public\\am2800\\ColonyProcessing\\well_processor.py:315: RuntimeWarning: invalid value encountered in divide\n",
      "  combined = np.stack([self.tritc_cleared, self.yfp_cleared, self.yfp_cleared/self.tritc_cleared], axis=1)\n"
     ]
    },
    {
     "name": "stdout",
     "output_type": "stream",
     "text": [
      "get_masks done\n",
      "make_projections done\n",
      "get_center_and_radius_stack done\n",
      "get_kymographs done\n",
      "get_derivative_kymographs done\n",
      "get_ratio_df done\n",
      "S:/micro/am2800/pt2843/smc/20250512/Plate 1derkymo/ZProj_Max\\../projections\n",
      "Directory already exists: S:/micro/am2800/pt2843/smc/20250512/Plate 1derkymo/ZProj_Max\\../montages\n",
      "Directory already exists: S:/micro/am2800/pt2843/smc/20250512/Plate 1derkymo/ZProj_Max\\../csvs\n",
      "Directory already exists: S:/micro/am2800/pt2843/smc/20250512/Plate 1derkymo/ZProj_Max\\../projections\n",
      "Directory already exists: S:/micro/am2800/pt2843/smc/20250512/Plate 1derkymo/ZProj_Max\\../segmentations\n",
      "Directory already exists: S:/micro/am2800/pt2843/smc/20250512/Plate 1derkymo/ZProj_Max\\../cleared\n",
      "Directory already exists: S:/micro/am2800/pt2843/smc/20250512/Plate 1derkymo/ZProj_Max\\../derivatives\n",
      "Directory already exists: S:/micro/am2800/pt2843/smc/20250512/Plate 1derkymo/ZProj_Max\\../derivative_csvs\n",
      "Directory already exists: S:/micro/am2800/pt2843/smc/20250512/Plate 1derkymo/ZProj_Max\\../derivative_kymographs\n",
      "get_well done\n"
     ]
    },
    {
     "name": "stderr",
     "output_type": "stream",
     "text": [
      "100%|██████████| 48/48 [01:43<00:00,  2.16s/it]\n"
     ]
    },
    {
     "name": "stdout",
     "output_type": "stream",
     "text": [
      "register_images done\n"
     ]
    },
    {
     "name": "stderr",
     "output_type": "stream",
     "text": [
      "u:\\smc\\public\\am2800\\ColonyProcessing\\well_processor.py:265: RuntimeWarning: divide by zero encountered in divide\n",
      "  combined = np.stack([self.tritc_cleared, self.yfp_cleared, self.yfp_cleared/self.tritc_cleared], axis=1)\n",
      "u:\\smc\\public\\am2800\\ColonyProcessing\\well_processor.py:265: RuntimeWarning: invalid value encountered in divide\n",
      "  combined = np.stack([self.tritc_cleared, self.yfp_cleared, self.yfp_cleared/self.tritc_cleared], axis=1)\n",
      "u:\\smc\\public\\am2800\\ColonyProcessing\\well_processor.py:285: RuntimeWarning: divide by zero encountered in divide\n",
      "  ratio_img = self.yfp_cleared / self.tritc_cleared\n",
      "u:\\smc\\public\\am2800\\ColonyProcessing\\well_processor.py:285: RuntimeWarning: invalid value encountered in divide\n",
      "  ratio_img = self.yfp_cleared / self.tritc_cleared\n",
      "u:\\smc\\public\\am2800\\ColonyProcessing\\well_processor.py:315: RuntimeWarning: divide by zero encountered in divide\n",
      "  combined = np.stack([self.tritc_cleared, self.yfp_cleared, self.yfp_cleared/self.tritc_cleared], axis=1)\n",
      "u:\\smc\\public\\am2800\\ColonyProcessing\\well_processor.py:315: RuntimeWarning: invalid value encountered in divide\n",
      "  combined = np.stack([self.tritc_cleared, self.yfp_cleared, self.yfp_cleared/self.tritc_cleared], axis=1)\n"
     ]
    },
    {
     "name": "stdout",
     "output_type": "stream",
     "text": [
      "get_masks done\n",
      "make_projections done\n",
      "get_center_and_radius_stack done\n",
      "get_kymographs done\n",
      "get_derivative_kymographs done\n",
      "get_ratio_df done\n",
      "S:/micro/am2800/pt2843/smc/20250512/Plate 1derkymo/ZProj_Max\\../projections\n"
     ]
    }
   ],
   "source": [
    "for root_directory in list_of_directories:\n",
    "    well_list = pd.DataFrame({'fname':glob.glob(root_directory + '/*.tif')}).sort_values(by='fname')\n",
    "    well_list['well'] = well_list['fname'].str.split('\\\\').str[-1].str.split('_').str[0]\n",
    "\n",
    "\n",
    "    well_list = well_list['well'].unique()\n",
    "\n",
    "\n",
    "    for well in well_list:\n",
    "        processor = WellProcessor(well, root_directory, time_clip=2)\n",
    "        processor.process_well()\n",
    "\n",
    "    merge_montages(processor.montage_dir)\n"
   ]
  },
  {
   "cell_type": "code",
   "execution_count": null,
   "metadata": {},
   "outputs": [],
   "source": []
  },
  {
   "cell_type": "code",
   "execution_count": null,
   "metadata": {},
   "outputs": [],
   "source": []
  },
  {
   "cell_type": "code",
   "execution_count": null,
   "metadata": {},
   "outputs": [],
   "source": []
  }
 ],
 "metadata": {
  "kernelspec": {
   "display_name": "napari",
   "language": "python",
   "name": "python3"
  },
  "language_info": {
   "codemirror_mode": {
    "name": "ipython",
    "version": 3
   },
   "file_extension": ".py",
   "mimetype": "text/x-python",
   "name": "python",
   "nbconvert_exporter": "python",
   "pygments_lexer": "ipython3",
   "version": "3.10.13"
  }
 },
 "nbformat": 4,
 "nbformat_minor": 4
}
