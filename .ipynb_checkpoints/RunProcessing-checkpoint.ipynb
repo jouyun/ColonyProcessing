{
 "cells": [
  {
   "cell_type": "code",
   "execution_count": 5,
   "metadata": {},
   "outputs": [
    {
     "ename": "ModuleNotFoundError",
     "evalue": "No module named 'well_processor'",
     "output_type": "error",
     "traceback": [
      "\u001b[31m---------------------------------------------------------------------------\u001b[39m",
      "\u001b[31mModuleNotFoundError\u001b[39m                       Traceback (most recent call last)",
      "\u001b[36mCell\u001b[39m\u001b[36m \u001b[39m\u001b[32mIn[5]\u001b[39m\u001b[32m, line 6\u001b[39m\n\u001b[32m      4\u001b[39m \u001b[38;5;28;01mimport\u001b[39;00m\u001b[38;5;250m \u001b[39m\u001b[34;01mpandas\u001b[39;00m\u001b[38;5;250m \u001b[39m\u001b[38;5;28;01mas\u001b[39;00m\u001b[38;5;250m \u001b[39m\u001b[34;01mpd\u001b[39;00m\n\u001b[32m      5\u001b[39m \u001b[38;5;28;01mimport\u001b[39;00m\u001b[38;5;250m \u001b[39m\u001b[34;01mglob\u001b[39;00m\n\u001b[32m----> \u001b[39m\u001b[32m6\u001b[39m \u001b[38;5;28;01mfrom\u001b[39;00m\u001b[38;5;250m \u001b[39m\u001b[34;01mwell_processor\u001b[39;00m\u001b[38;5;250m \u001b[39m\u001b[38;5;28;01mimport\u001b[39;00m WellProcessor, create_montage, merge_montages\n",
      "\u001b[31mModuleNotFoundError\u001b[39m: No module named 'well_processor'"
     ]
    }
   ],
   "source": [
    "%load_ext autoreload\n",
    "%autoreload 2\n",
    "\n",
    "import pandas as pd\n",
    "import glob\n",
    "from well_processor import WellProcessor, create_montage, merge_montages\n"
   ]
  },
  {
   "cell_type": "markdown",
   "metadata": {},
   "source": [
    "# Put your list of directories to process here"
   ]
  },
  {
   "cell_type": "markdown",
   "metadata": {},
   "source": [
    "1.  Make sure you use '/' as the file separator\n",
    "2.  Make sure you are using windows file paths (S:/micro/etc) and not macOS or linux\n",
    "3.  Make sure all directories are encased in single quotes"
   ]
  },
  {
   "cell_type": "code",
   "execution_count": 10,
   "metadata": {},
   "outputs": [],
   "source": [
    "list_of_directories = ['L:/Cytation data/Stowers_Cytation/Suhana/SA_ImmunitygenesOE_2740-80_11.07.2025/dd_Ara_Kan_SytoX_mKO/#2562443447_ZProj/' \n",
    "                      ]                       "
   ]
  },
  {
   "cell_type": "markdown",
   "metadata": {},
   "source": [
    "# Then run this code"
   ]
  },
  {
   "cell_type": "code",
   "execution_count": 11,
   "metadata": {},
   "outputs": [
    {
     "ename": "NameError",
     "evalue": "name 'pd' is not defined",
     "output_type": "error",
     "traceback": [
      "\u001b[31m---------------------------------------------------------------------------\u001b[39m",
      "\u001b[31mNameError\u001b[39m                                 Traceback (most recent call last)",
      "\u001b[36mCell\u001b[39m\u001b[36m \u001b[39m\u001b[32mIn[11]\u001b[39m\u001b[32m, line 2\u001b[39m\n\u001b[32m      1\u001b[39m \u001b[38;5;28;01mfor\u001b[39;00m root_directory \u001b[38;5;129;01min\u001b[39;00m list_of_directories:\n\u001b[32m----> \u001b[39m\u001b[32m2\u001b[39m     well_list = \u001b[43mpd\u001b[49m.DataFrame({\u001b[33m'\u001b[39m\u001b[33mfname\u001b[39m\u001b[33m'\u001b[39m:glob.glob(root_directory + \u001b[33m'\u001b[39m\u001b[33m/*.tif\u001b[39m\u001b[33m'\u001b[39m)}).sort_values(by=\u001b[33m'\u001b[39m\u001b[33mfname\u001b[39m\u001b[33m'\u001b[39m)\n\u001b[32m      3\u001b[39m     well_list[\u001b[33m'\u001b[39m\u001b[33mwell\u001b[39m\u001b[33m'\u001b[39m] = well_list[\u001b[33m'\u001b[39m\u001b[33mfname\u001b[39m\u001b[33m'\u001b[39m].str.split(\u001b[33m'\u001b[39m\u001b[38;5;130;01m\\\\\u001b[39;00m\u001b[33m'\u001b[39m).str[-\u001b[32m1\u001b[39m].str.split(\u001b[33m'\u001b[39m\u001b[33m_\u001b[39m\u001b[33m'\u001b[39m).str[\u001b[32m0\u001b[39m]\n\u001b[32m      4\u001b[39m     well_list = well_list[\u001b[33m'\u001b[39m\u001b[33mwell\u001b[39m\u001b[33m'\u001b[39m].unique()\n",
      "\u001b[31mNameError\u001b[39m: name 'pd' is not defined"
     ]
    }
   ],
   "source": [
    "for root_directory in list_of_directories:\n",
    "    well_list = pd.DataFrame({'fname':glob.glob(root_directory + '/*.tif')}).sort_values(by='fname')\n",
    "    well_list['well'] = well_list['fname'].str.split('\\\\').str[-1].str.split('_').str[0]\n",
    "    well_list = well_list['well'].unique()\n",
    "\n",
    "\n",
    "    for well in well_list:\n",
    "        processor = WellProcessor(well, root_directory)\n",
    "        processor.process_well()\n",
    "\n",
    "    merge_montages(processor.montage_dir)\n"
   ]
  },
  {
   "cell_type": "code",
   "execution_count": null,
   "metadata": {},
   "outputs": [],
   "source": []
  }
 ],
 "metadata": {
  "kernelspec": {
   "display_name": "Python 3 (ipykernel)",
   "language": "python",
   "name": "python3"
  },
  "language_info": {
   "codemirror_mode": {
    "name": "ipython",
    "version": 3
   },
   "file_extension": ".py",
   "mimetype": "text/x-python",
   "name": "python",
   "nbconvert_exporter": "python",
   "pygments_lexer": "ipython3",
   "version": "3.12.10"
  }
 },
 "nbformat": 4,
 "nbformat_minor": 4
}
