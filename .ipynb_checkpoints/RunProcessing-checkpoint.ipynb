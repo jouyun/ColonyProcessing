{
 "cells": [
  {
   "cell_type": "code",
   "execution_count": 2,
   "metadata": {},
   "outputs": [],
   "source": [
    "%load_ext autoreload\n",
    "%autoreload 2\n",
    "\n",
    "import pandas as pd\n",
    "import glob\n",
    "from well_processor import WellProcessor, create_montage, merge_montages\n"
   ]
  },
  {
   "cell_type": "markdown",
   "metadata": {},
   "source": [
    "# Put your list of directories to process here"
   ]
  },
  {
   "cell_type": "markdown",
   "metadata": {},
   "source": [
    "1.  Make sure you use '/' as the file separator\n",
    "2.  Make sure you are using windows file paths (S:/micro/etc) and not macOS or linux\n",
    "3.  Make sure all directories are encased in single quotes"
   ]
  },
  {
   "cell_type": "code",
   "execution_count": 3,
   "metadata": {},
   "outputs": [],
   "source": [
    "list_of_directories = [ 'L:/Cytation data/Stowers_Cytation/Janie/JR and AAM_Eleven strains_fumarate_minimal media tap_tapwater_ts4h_int 1h15min_save in D_02042025/Plate 1/ZProj_Max/', \n",
    "                       'L:/Cytation data/Stowers_Cytation/Janie/JR and AAM_Eleven strains_fumarate_minimal media tap_tapwater_ts4h_int 1h15min_save in D_02042025/Plate 2/ZProj_Max/',\n",
    "                       'L:/Cytation data/Stowers_Cytation/Janie/JR and AAM_Eleven strains_fumarate_minimal media tap_tapwater_ts4h_int 1h15min_save in D_02042025/Plate 3/ZProj_Max/',\n",
    "                       'L:/Cytation data/Stowers_Cytation/Janie/JR and AAM_Eleven strains_fumarate_minimal media tap_tapwater_ts4h_int 1h15min_save in D_02042025/Plate 4/ZProj_Max/',\n",
    "                       'L:/Cytation data/Stowers_Cytation/Janie/JR and AAM_Eleven strains_fumarate_minimal media tap_tapwater_ts4h_int 1h15min_save in D_02042025/Plate 5/ZProj_Max/',\n",
    "                       'L:/Cytation data/Stowers_Cytation/Janie/JR and AAM_Eleven strains_fumarate_minimal media tap_tapwater_ts4h_int 1h15min_save in D_02042025/Plate 6/ZProj_Max/',\n",
    "                       ]"
   ]
  },
  {
   "cell_type": "markdown",
   "metadata": {},
   "source": [
    "# Then run this code"
   ]
  },
  {
   "cell_type": "code",
   "execution_count": null,
   "metadata": {},
   "outputs": [
    {
     "name": "stdout",
     "output_type": "stream",
     "text": [
      "Created directory: L:/Cytation data/Stowers_Cytation/Janie/JR and AAM_Eleven strains_fumarate_minimal media tap_tapwater_ts4h_int 1h15min_save in D_02042025/Plate 1/ZProj_Max/../montages\n",
      "Created directory: L:/Cytation data/Stowers_Cytation/Janie/JR and AAM_Eleven strains_fumarate_minimal media tap_tapwater_ts4h_int 1h15min_save in D_02042025/Plate 1/ZProj_Max/../csvs\n",
      "Created directory: L:/Cytation data/Stowers_Cytation/Janie/JR and AAM_Eleven strains_fumarate_minimal media tap_tapwater_ts4h_int 1h15min_save in D_02042025/Plate 1/ZProj_Max/../projections\n",
      "Created directory: L:/Cytation data/Stowers_Cytation/Janie/JR and AAM_Eleven strains_fumarate_minimal media tap_tapwater_ts4h_int 1h15min_save in D_02042025/Plate 1/ZProj_Max/../segmentations\n"
     ]
    },
    {
     "name": "stderr",
     "output_type": "stream",
     "text": [
      "100%|██████████████████████████████████████████████████████████████████████████████████| 47/47 [01:32<00:00,  1.98s/it]\n"
     ]
    }
   ],
   "source": [
    "for root_directory in list_of_directories:\n",
    "    well_list = pd.DataFrame({'fname':glob.glob(root_directory + '/*.tif')}).sort_values(by='fname')\n",
    "    well_list['well'] = well_list['fname'].str.split('\\\\').str[-1].str.split('_').str[0]\n",
    "    well_list = well_list['well'].unique()\n",
    "\n",
    "\n",
    "    for well in well_list:\n",
    "        processor = WellProcessor(well, root_directory)\n",
    "        processor.process_well()\n",
    "\n",
    "    merge_montages(processor.montage_dir)\n"
   ]
  },
  {
   "cell_type": "code",
   "execution_count": null,
   "metadata": {},
   "outputs": [],
   "source": []
  }
 ],
 "metadata": {
  "kernelspec": {
   "display_name": "Python 3 (ipykernel)",
   "language": "python",
   "name": "python3"
  },
  "language_info": {
   "codemirror_mode": {
    "name": "ipython",
    "version": 3
   },
   "file_extension": ".py",
   "mimetype": "text/x-python",
   "name": "python",
   "nbconvert_exporter": "python",
   "pygments_lexer": "ipython3",
   "version": "3.12.8"
  }
 },
 "nbformat": 4,
 "nbformat_minor": 4
}
